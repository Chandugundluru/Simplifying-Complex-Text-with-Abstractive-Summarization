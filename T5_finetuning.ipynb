{
 "cells": [
  {
   "cell_type": "code",
   "execution_count": 32,
   "metadata": {
    "colab": {
     "base_uri": "https://localhost:8080/",
     "height": 326
    },
    "colab_type": "code",
    "executionInfo": {
     "elapsed": 6061,
     "status": "ok",
     "timestamp": 1595573045662,
     "user": {
      "displayName": "Chandu Gundluru",
      "photoUrl": "https://lh3.googleusercontent.com/a-/AOh14GidFgklOcDs2TYAm7XkdUvRzaF_0QWCktV_lCRUQg=s64",
      "userId": "06673751404601892249"
     },
     "user_tz": -330
    },
    "id": "SiP4wmVY4_SB",
    "outputId": "00445eae-dc59-480c-a1d3-b872d6c1b821"
   },
   "outputs": [
    {
     "name": "stdout",
     "output_type": "stream",
     "text": [
      "Requirement already satisfied: transformers in /usr/local/lib/python3.6/dist-packages (3.0.2)\n",
      "Requirement already satisfied: dataclasses; python_version < \"3.7\" in /usr/local/lib/python3.6/dist-packages (from transformers) (0.7)\n",
      "Requirement already satisfied: filelock in /usr/local/lib/python3.6/dist-packages (from transformers) (3.0.12)\n",
      "Requirement already satisfied: regex!=2019.12.17 in /usr/local/lib/python3.6/dist-packages (from transformers) (2019.12.20)\n",
      "Requirement already satisfied: sentencepiece!=0.1.92 in /usr/local/lib/python3.6/dist-packages (from transformers) (0.1.91)\n",
      "Requirement already satisfied: tokenizers==0.8.1.rc1 in /usr/local/lib/python3.6/dist-packages (from transformers) (0.8.1rc1)\n",
      "Requirement already satisfied: sacremoses in /usr/local/lib/python3.6/dist-packages (from transformers) (0.0.43)\n",
      "Requirement already satisfied: packaging in /usr/local/lib/python3.6/dist-packages (from transformers) (20.4)\n",
      "Requirement already satisfied: numpy in /usr/local/lib/python3.6/dist-packages (from transformers) (1.18.5)\n",
      "Requirement already satisfied: tqdm>=4.27 in /usr/local/lib/python3.6/dist-packages (from transformers) (4.41.1)\n",
      "Requirement already satisfied: requests in /usr/local/lib/python3.6/dist-packages (from transformers) (2.23.0)\n",
      "Requirement already satisfied: joblib in /usr/local/lib/python3.6/dist-packages (from sacremoses->transformers) (0.16.0)\n",
      "Requirement already satisfied: six in /usr/local/lib/python3.6/dist-packages (from sacremoses->transformers) (1.15.0)\n",
      "Requirement already satisfied: click in /usr/local/lib/python3.6/dist-packages (from sacremoses->transformers) (7.1.2)\n",
      "Requirement already satisfied: pyparsing>=2.0.2 in /usr/local/lib/python3.6/dist-packages (from packaging->transformers) (2.4.7)\n",
      "Requirement already satisfied: urllib3!=1.25.0,!=1.25.1,<1.26,>=1.21.1 in /usr/local/lib/python3.6/dist-packages (from requests->transformers) (1.24.3)\n",
      "Requirement already satisfied: certifi>=2017.4.17 in /usr/local/lib/python3.6/dist-packages (from requests->transformers) (2020.6.20)\n",
      "Requirement already satisfied: idna<3,>=2.5 in /usr/local/lib/python3.6/dist-packages (from requests->transformers) (2.10)\n",
      "Requirement already satisfied: chardet<4,>=3.0.2 in /usr/local/lib/python3.6/dist-packages (from requests->transformers) (3.0.4)\n"
     ]
    }
   ],
   "source": [
    "! pip install transformers"
   ]
  },
  {
   "cell_type": "code",
   "execution_count": 33,
   "metadata": {
    "colab": {},
    "colab_type": "code",
    "executionInfo": {
     "elapsed": 6050,
     "status": "ok",
     "timestamp": 1595573045668,
     "user": {
      "displayName": "Chandu Gundluru",
      "photoUrl": "https://lh3.googleusercontent.com/a-/AOh14GidFgklOcDs2TYAm7XkdUvRzaF_0QWCktV_lCRUQg=s64",
      "userId": "06673751404601892249"
     },
     "user_tz": -330
    },
    "id": "-svQd1eI4E4a"
   },
   "outputs": [],
   "source": [
    "\n",
    "import tensorflow as tf\n",
    "import pandas as pd\n",
    "from transformers import T5Tokenizer, TFT5Model, TFT5ForConditionalGeneration\n",
    "import tensorflow_datasets as tfds\n",
    "import time\n",
    "import logging\n",
    "logging.basicConfig(level=logging.ERROR)"
   ]
  },
  {
   "cell_type": "code",
   "execution_count": 34,
   "metadata": {
    "colab": {
     "base_uri": "https://localhost:8080/",
     "height": 33
    },
    "colab_type": "code",
    "executionInfo": {
     "elapsed": 5994,
     "status": "ok",
     "timestamp": 1595573045670,
     "user": {
      "displayName": "Chandu Gundluru",
      "photoUrl": "https://lh3.googleusercontent.com/a-/AOh14GidFgklOcDs2TYAm7XkdUvRzaF_0QWCktV_lCRUQg=s64",
      "userId": "06673751404601892249"
     },
     "user_tz": -330
    },
    "id": "JnOqR9lm5Kat",
    "outputId": "913376af-4d4c-4891-e191-568881abc3ff"
   },
   "outputs": [
    {
     "name": "stdout",
     "output_type": "stream",
     "text": [
      "Drive already mounted at /content/gdrive; to attempt to forcibly remount, call drive.mount(\"/content/gdrive\", force_remount=True).\n"
     ]
    }
   ],
   "source": [
    "from google.colab import drive\n",
    "drive.mount('/content/gdrive')"
   ]
  },
  {
   "cell_type": "markdown",
   "metadata": {
    "colab_type": "text",
    "id": "Q0DCjeMAV11a"
   },
   "source": [
    "## Hugging face T5-small"
   ]
  },
  {
   "cell_type": "code",
   "execution_count": 35,
   "metadata": {
    "colab": {},
    "colab_type": "code",
    "executionInfo": {
     "elapsed": 8318,
     "status": "ok",
     "timestamp": 1595573048036,
     "user": {
      "displayName": "Chandu Gundluru",
      "photoUrl": "https://lh3.googleusercontent.com/a-/AOh14GidFgklOcDs2TYAm7XkdUvRzaF_0QWCktV_lCRUQg=s64",
      "userId": "06673751404601892249"
     },
     "user_tz": -330
    },
    "id": "YUmtrJSq5UDf"
   },
   "outputs": [],
   "source": [
    "tokenizer = T5Tokenizer.from_pretrained('t5-small')\n",
    "model = TFT5ForConditionalGeneration.from_pretrained('t5-small')\n",
    "\n",
    "task_specific_params = model.config.task_specific_params\n",
    "if task_specific_params is not None:\n",
    "    model.config.update(task_specific_params.get(\"summarization\", {}))\n",
    "    \n",
    "pad_token_id = tokenizer.pad_token_id"
   ]
  },
  {
   "cell_type": "code",
   "execution_count": 49,
   "metadata": {
    "colab": {},
    "colab_type": "code",
    "executionInfo": {
     "elapsed": 1244,
     "status": "ok",
     "timestamp": 1595573263551,
     "user": {
      "displayName": "Chandu Gundluru",
      "photoUrl": "https://lh3.googleusercontent.com/a-/AOh14GidFgklOcDs2TYAm7XkdUvRzaF_0QWCktV_lCRUQg=s64",
      "userId": "06673751404601892249"
     },
     "user_tz": -330
    },
    "id": "GXqV4e5Q6YLX"
   },
   "outputs": [],
   "source": [
    "BATCH_SIZE = 64\n",
    "\n",
    "SHUFFEL_SIZE = 1024\n",
    "\n",
    "learning_rate = 3e-5"
   ]
  },
  {
   "cell_type": "code",
   "execution_count": 50,
   "metadata": {
    "colab": {
     "base_uri": "https://localhost:8080/",
     "height": 245
    },
    "colab_type": "code",
    "executionInfo": {
     "elapsed": 2200,
     "status": "ok",
     "timestamp": 1595573264538,
     "user": {
      "displayName": "Chandu Gundluru",
      "photoUrl": "https://lh3.googleusercontent.com/a-/AOh14GidFgklOcDs2TYAm7XkdUvRzaF_0QWCktV_lCRUQg=s64",
      "userId": "06673751404601892249"
     },
     "user_tz": -330
    },
    "id": "gYb6zrK05UBp",
    "outputId": "c4a2ca8c-71a8-49ef-c74e-285fc200af3e"
   },
   "outputs": [
    {
     "name": "stdout",
     "output_type": "stream",
     "text": [
      "Model: \"tf_t5for_conditional_generation_1\"\n",
      "_________________________________________________________________\n",
      "Layer (type)                 Output Shape              Param #   \n",
      "=================================================================\n",
      "shared (TFSharedEmbeddings)  multiple                  16449536  \n",
      "_________________________________________________________________\n",
      "encoder (TFT5MainLayer)      multiple                  18881280  \n",
      "_________________________________________________________________\n",
      "decoder (TFT5MainLayer)      multiple                  25176064  \n",
      "=================================================================\n",
      "Total params: 60,506,880\n",
      "Trainable params: 60,506,880\n",
      "Non-trainable params: 0\n",
      "_________________________________________________________________\n"
     ]
    }
   ],
   "source": [
    "\n",
    "optimizer = tf.keras.optimizers.Adam(learning_rate=learning_rate, epsilon=1e-08, clipnorm=1.0)\n",
    "loss_object = tf.keras.losses.SparseCategoricalCrossentropy(from_logits=True)\n",
    "\n",
    "\n",
    "train_accuracy = tf.keras.metrics.SparseCategoricalAccuracy(name='train_accuracy')\n",
    "\n",
    "\n",
    "val_accuracy = tf.keras.metrics.SparseCategoricalAccuracy(name='val_accuracy')\n",
    "\n",
    "model.summary()"
   ]
  },
  {
   "cell_type": "markdown",
   "metadata": {
    "colab_type": "text",
    "id": "kAhuJSYkZiXA"
   },
   "source": [
    "## Data preperation\n",
    "\n"
   ]
  },
  {
   "cell_type": "code",
   "execution_count": 62,
   "metadata": {
    "colab": {},
    "colab_type": "code",
    "executionInfo": {
     "elapsed": 1298,
     "status": "ok",
     "timestamp": 1595573315538,
     "user": {
      "displayName": "Chandu Gundluru",
      "photoUrl": "https://lh3.googleusercontent.com/a-/AOh14GidFgklOcDs2TYAm7XkdUvRzaF_0QWCktV_lCRUQg=s64",
      "userId": "06673751404601892249"
     },
     "user_tz": -330
    },
    "id": "iS1rN1325T-h"
   },
   "outputs": [],
   "source": [
    "data=pd.read_csv('/content/gdrive/My Drive/Bert/data_without_ent.csv')"
   ]
  },
  {
   "cell_type": "code",
   "execution_count": 63,
   "metadata": {
    "colab": {},
    "colab_type": "code",
    "executionInfo": {
     "elapsed": 2186,
     "status": "ok",
     "timestamp": 1595573316444,
     "user": {
      "displayName": "Chandu Gundluru",
      "photoUrl": "https://lh3.googleusercontent.com/a-/AOh14GidFgklOcDs2TYAm7XkdUvRzaF_0QWCktV_lCRUQg=s64",
      "userId": "06673751404601892249"
     },
     "user_tz": -330
    },
    "id": "l0mBcw7b5T8r"
   },
   "outputs": [],
   "source": [
    "len_data = len(data)\n",
    "len_test = int(len_data * 0.1)\n",
    "len_train = len_data - len_test"
   ]
  },
  {
   "cell_type": "code",
   "execution_count": 64,
   "metadata": {
    "colab": {},
    "colab_type": "code",
    "executionInfo": {
     "elapsed": 2172,
     "status": "ok",
     "timestamp": 1595573316445,
     "user": {
      "displayName": "Chandu Gundluru",
      "photoUrl": "https://lh3.googleusercontent.com/a-/AOh14GidFgklOcDs2TYAm7XkdUvRzaF_0QWCktV_lCRUQg=s64",
      "userId": "06673751404601892249"
     },
     "user_tz": -330
    },
    "id": "2K7jQMZr5Tt2"
   },
   "outputs": [],
   "source": [
    "test_data = data.iloc[:len_test]\n",
    "train_data = data.iloc[len_test:]"
   ]
  },
  {
   "cell_type": "code",
   "execution_count": 65,
   "metadata": {
    "colab": {
     "base_uri": "https://localhost:8080/",
     "height": 191
    },
    "colab_type": "code",
    "executionInfo": {
     "elapsed": 2159,
     "status": "ok",
     "timestamp": 1595573316448,
     "user": {
      "displayName": "Chandu Gundluru",
      "photoUrl": "https://lh3.googleusercontent.com/a-/AOh14GidFgklOcDs2TYAm7XkdUvRzaF_0QWCktV_lCRUQg=s64",
      "userId": "06673751404601892249"
     },
     "user_tz": -330
    },
    "id": "C_DiO94B658O",
    "outputId": "c92de649-3f70-4860-887d-0a9f13486169"
   },
   "outputs": [
    {
     "data": {
      "text/html": [
       "<div>\n",
       "<style scoped>\n",
       "    .dataframe tbody tr th:only-of-type {\n",
       "        vertical-align: middle;\n",
       "    }\n",
       "\n",
       "    .dataframe tbody tr th {\n",
       "        vertical-align: top;\n",
       "    }\n",
       "\n",
       "    .dataframe thead th {\n",
       "        text-align: right;\n",
       "    }\n",
       "</style>\n",
       "<table border=\"1\" class=\"dataframe\">\n",
       "  <thead>\n",
       "    <tr style=\"text-align: right;\">\n",
       "      <th></th>\n",
       "      <th>Unnamed: 0</th>\n",
       "      <th>text</th>\n",
       "      <th>summary</th>\n",
       "    </tr>\n",
       "  </thead>\n",
       "  <tbody>\n",
       "    <tr>\n",
       "      <th>0</th>\n",
       "      <td>0</td>\n",
       "      <td>tripoli , libya rebels in tripoli furiously hu...</td>\n",
       "      <td>_START_  is sara sidner sees another world in ...</td>\n",
       "    </tr>\n",
       "    <tr>\n",
       "      <th>1</th>\n",
       "      <td>1</td>\n",
       "      <td>a german tourist was in critical condition af...</td>\n",
       "      <td>_START_  this is the fourth shark attack in ma...</td>\n",
       "    </tr>\n",
       "    <tr>\n",
       "      <th>2</th>\n",
       "      <td>2</td>\n",
       "      <td>if that car parked in harvard yard is a rocki...</td>\n",
       "      <td>_START_  harvard bans all romantic relationshi...</td>\n",
       "    </tr>\n",
       "    <tr>\n",
       "      <th>3</th>\n",
       "      <td>3</td>\n",
       "      <td>south korea launched an investigation tuesday...</td>\n",
       "      <td>_START_  u.s. and south korea teams are search...</td>\n",
       "    </tr>\n",
       "    <tr>\n",
       "      <th>4</th>\n",
       "      <td>4</td>\n",
       "      <td>space shuttle discovery launched just before ...</td>\n",
       "      <td>_START_  space shuttle discovery launches just...</td>\n",
       "    </tr>\n",
       "  </tbody>\n",
       "</table>\n",
       "</div>"
      ],
      "text/plain": [
       "   Unnamed: 0  ...                                            summary\n",
       "0           0  ...  _START_  is sara sidner sees another world in ...\n",
       "1           1  ...  _START_  this is the fourth shark attack in ma...\n",
       "2           2  ...  _START_  harvard bans all romantic relationshi...\n",
       "3           3  ...  _START_  u.s. and south korea teams are search...\n",
       "4           4  ...  _START_  space shuttle discovery launches just...\n",
       "\n",
       "[5 rows x 3 columns]"
      ]
     },
     "execution_count": 65,
     "metadata": {
      "tags": []
     },
     "output_type": "execute_result"
    }
   ],
   "source": [
    "test_data.head()"
   ]
  },
  {
   "cell_type": "code",
   "execution_count": 66,
   "metadata": {
    "colab": {},
    "colab_type": "code",
    "executionInfo": {
     "elapsed": 2142,
     "status": "ok",
     "timestamp": 1595573316450,
     "user": {
      "displayName": "Chandu Gundluru",
      "photoUrl": "https://lh3.googleusercontent.com/a-/AOh14GidFgklOcDs2TYAm7XkdUvRzaF_0QWCktV_lCRUQg=s64",
      "userId": "06673751404601892249"
     },
     "user_tz": -330
    },
    "id": "aZrUSlbh6-AR"
   },
   "outputs": [],
   "source": [
    "train_tfds = tf.data.Dataset.from_tensor_slices((train_data.text.values, train_data.summary.values))\n",
    "test_tfds = tf.data.Dataset.from_tensor_slices((test_data.text.values, test_data.summary.values))"
   ]
  },
  {
   "cell_type": "code",
   "execution_count": 67,
   "metadata": {
    "colab": {},
    "colab_type": "code",
    "executionInfo": {
     "elapsed": 2122,
     "status": "ok",
     "timestamp": 1595573316451,
     "user": {
      "displayName": "Chandu Gundluru",
      "photoUrl": "https://lh3.googleusercontent.com/a-/AOh14GidFgklOcDs2TYAm7XkdUvRzaF_0QWCktV_lCRUQg=s64",
      "userId": "06673751404601892249"
     },
     "user_tz": -330
    },
    "id": "I9mut6Ei7KST"
   },
   "outputs": [],
   "source": [
    "def normalize_text(text):\n",
    "    \n",
    "    text = tf.strings.lower(text)\n",
    "    text = tf.strings.regex_replace(text,\"'(.*)'\", r\"\\1\")\n",
    "    return text.numpy().decode('UTF-8')\n",
    "\n",
    "def tokenize_articles(text):\n",
    "    text = normalize_text(text)\n",
    "    ids = tokenizer.encode_plus((model.config.prefix + text), return_tensors=\"tf\", max_length=350, truncation='longest_first') \n",
    "\n",
    "    return tf.squeeze(ids['input_ids']), tf.squeeze(ids['attention_mask'])\n",
    "        \n",
    "def tokenize_highlights(text):\n",
    "    text = normalize_text(text)\n",
    "    ids = tokenizer.encode(text, return_tensors=\"tf\", max_length=50)\n",
    "    return tf.squeeze(ids)\n",
    "\n",
    "\n",
    "def map_func(x, y):\n",
    "    article_ids, attention_mask = tf.py_function(tokenize_articles, inp=[x], Tout=(tf.int32, tf.int32))\n",
    "    highlights_ids = tf.py_function(tokenize_highlights, inp=[y], Tout=tf.int32)\n",
    "\n",
    "    return article_ids, attention_mask, highlights_ids"
   ]
  },
  {
   "cell_type": "code",
   "execution_count": 68,
   "metadata": {
    "colab": {},
    "colab_type": "code",
    "executionInfo": {
     "elapsed": 2107,
     "status": "ok",
     "timestamp": 1595573316452,
     "user": {
      "displayName": "Chandu Gundluru",
      "photoUrl": "https://lh3.googleusercontent.com/a-/AOh14GidFgklOcDs2TYAm7XkdUvRzaF_0QWCktV_lCRUQg=s64",
      "userId": "06673751404601892249"
     },
     "user_tz": -330
    },
    "id": "zMJTDbug7KNk"
   },
   "outputs": [],
   "source": [
    "x,y = next(iter(train_tfds))\n",
    "\n",
    "mapped_data = map_func(x,y)\n",
    "\n"
   ]
  },
  {
   "cell_type": "code",
   "execution_count": 69,
   "metadata": {
    "colab": {},
    "colab_type": "code",
    "executionInfo": {
     "elapsed": 2084,
     "status": "ok",
     "timestamp": 1595573316452,
     "user": {
      "displayName": "Chandu Gundluru",
      "photoUrl": "https://lh3.googleusercontent.com/a-/AOh14GidFgklOcDs2TYAm7XkdUvRzaF_0QWCktV_lCRUQg=s64",
      "userId": "06673751404601892249"
     },
     "user_tz": -330
    },
    "id": "q4-YJpU-7KHV"
   },
   "outputs": [],
   "source": [
    "train_ds = train_tfds.map(map_func)\\\n",
    "    .shuffle(SHUFFEL_SIZE)\\\n",
    "    .padded_batch(BATCH_SIZE, padded_shapes=([350],[350],[50]))\\\n",
    "    .prefetch(tf.data.experimental.AUTOTUNE)\n",
    "\n",
    "test_ds = test_tfds.map(map_func)\\\n",
    "    .shuffle(SHUFFEL_SIZE)\\\n",
    "    .padded_batch(BATCH_SIZE, padded_shapes=([350],[350],[50]))\\\n",
    "    .prefetch(tf.data.experimental.AUTOTUNE)"
   ]
  },
  {
   "cell_type": "markdown",
   "metadata": {
    "colab_type": "text",
    "id": "Xmn0GA9BZwaQ"
   },
   "source": [
    "## Train function\n",
    "\n",
    "#### https://github.com/huggingface/transformers/blob/master/examples/summarization/bart/finetune.py\n",
    "\n",
    "#### https://github.com/yahah100/text_summarization/blob/ffaf0047dcbd54f8daf439bc45b67c808913770f/german_text_summary/t5_tf_german_text_summary.ipynb"
   ]
  },
  {
   "cell_type": "code",
   "execution_count": 70,
   "metadata": {
    "colab": {},
    "colab_type": "code",
    "executionInfo": {
     "elapsed": 2071,
     "status": "ok",
     "timestamp": 1595573316453,
     "user": {
      "displayName": "Chandu Gundluru",
      "photoUrl": "https://lh3.googleusercontent.com/a-/AOh14GidFgklOcDs2TYAm7XkdUvRzaF_0QWCktV_lCRUQg=s64",
      "userId": "06673751404601892249"
     },
     "user_tz": -330
    },
    "id": "NTEDXCbJ7KCS"
   },
   "outputs": [],
   "source": [
    "\n",
    "@tf.function\n",
    "def train_step(input_ids, input_mask, y):\n",
    "    \n",
    "    y_ids = y[:, :-1]\n",
    "    lm_labels = tf.identity(y[:, 1:])\n",
    "    lm_labels = tf.where(tf.equal(y[:, 1:],pad_token_id), -100, lm_labels)\n",
    "\n",
    "    with tf.GradientTape() as tape:\n",
    "     \n",
    "\n",
    "        predictions, _, _ = model(input_ids, attention_mask=input_mask, decoder_input_ids=y_ids, lm_labels=lm_labels, training=True)\n",
    "        loss = loss_object(y[:, 1:], predictions)\n",
    "    gradients = tape.gradient(loss, model.trainable_variables)\n",
    "    optimizer.apply_gradients(zip(gradients, model.trainable_variables))\n",
    "    \n",
    "\n",
    "    train_accuracy(y[:, 1:], predictions)"
   ]
  },
  {
   "cell_type": "markdown",
   "metadata": {
    "colab_type": "text",
    "id": "F8Irz5A-Z70q"
   },
   "source": [
    "### validation function"
   ]
  },
  {
   "cell_type": "code",
   "execution_count": 71,
   "metadata": {
    "colab": {},
    "colab_type": "code",
    "executionInfo": {
     "elapsed": 2052,
     "status": "ok",
     "timestamp": 1595573316454,
     "user": {
      "displayName": "Chandu Gundluru",
      "photoUrl": "https://lh3.googleusercontent.com/a-/AOh14GidFgklOcDs2TYAm7XkdUvRzaF_0QWCktV_lCRUQg=s64",
      "userId": "06673751404601892249"
     },
     "user_tz": -330
    },
    "id": "IeNWhdrZ73E_"
   },
   "outputs": [],
   "source": [
    "\n",
    "@tf.function\n",
    "def val_step(input_ids, input_mask, y):\n",
    "\n",
    "   \n",
    "    y_ids = y[:, :-1]\n",
    "    lm_labels = tf.identity(y[:, 1:])\n",
    "    lm_labels = tf.where(tf.equal(y[:, 1:],pad_token_id), -100, lm_labels)\n",
    "    \n",
    "    predictions, _, _ = model(input_ids, attention_mask=input_mask, decoder_input_ids=y_ids, lm_labels=lm_labels, training=False)\n",
    "    v_loss = loss_object(y[:, 1:], predictions)\n",
    "\n",
    "  \n",
    "    val_accuracy(y[:, 1:], predictions)"
   ]
  },
  {
   "cell_type": "code",
   "execution_count": 72,
   "metadata": {
    "colab": {
     "base_uri": "https://localhost:8080/",
     "height": 151
    },
    "colab_type": "code",
    "executionInfo": {
     "elapsed": 156033,
     "status": "ok",
     "timestamp": 1595573470451,
     "user": {
      "displayName": "Chandu Gundluru",
      "photoUrl": "https://lh3.googleusercontent.com/a-/AOh14GidFgklOcDs2TYAm7XkdUvRzaF_0QWCktV_lCRUQg=s64",
      "userId": "06673751404601892249"
     },
     "user_tz": -330
    },
    "id": "qzujUrbY73BY",
    "outputId": "b829d0bf-e487-4c64-f558-b0fd3a924cd8"
   },
   "outputs": [
    {
     "name": "stderr",
     "output_type": "stream",
     "text": [
      "/usr/local/lib/python3.6/dist-packages/tensorflow/python/framework/indexed_slices.py:434: UserWarning: Converting sparse IndexedSlices to a dense Tensor of unknown shape. This may consume a large amount of memory.\n",
      "  \"Converting sparse IndexedSlices to a dense Tensor of unknown shape. \"\n"
     ]
    },
    {
     "name": "stdout",
     "output_type": "stream",
     "text": [
      "| epoch   0 | [    0/   56] | ms/batch 56.05 | train acc 40.82 | val acc 53.32 |\n",
      "| epoch   1 | [    0/   56] | ms/batch 15.17 | train acc 53.06 | val acc 53.57 |\n",
      "| epoch   2 | [    0/   56] | ms/batch 15.22 | train acc 58.16 | val acc 53.83 |\n",
      "| epoch   3 | [    0/   56] | ms/batch 14.99 | train acc 67.86 | val acc 54.59 |\n",
      "| epoch   4 | [    0/   56] | ms/batch 14.69 | train acc 57.65 | val acc 69.13 |\n"
     ]
    }
   ],
   "source": [
    "\n",
    "\n",
    "EPOCHS = 5\n",
    "log_interval = 200\n",
    "for epoch in range(EPOCHS):\n",
    "    # reset metrics\n",
    "\n",
    "    train_accuracy.reset_states()\n",
    "\n",
    "    val_accuracy.reset_states()\n",
    "    \n",
    "    val_batches = iter(train_ds)\n",
    "    \n",
    "    start_time = time.time()\n",
    "    for i, (input_ids, input_mask, y) in enumerate(train_ds):\n",
    "        # training\n",
    "        train_step(input_ids, input_mask, y)\n",
    "        \n",
    "        # validation\n",
    "        if i % log_interval == 0:\n",
    "            x_val, x_mask_val, y_val = next(val_batches)\n",
    "            val_step(x_val, x_mask_val, y_val)\n",
    "            elapsed = time.time() - start_time\n",
    "            print('| epoch {:3d} | [{:5d}/{:5d}] | '\n",
    "                  'ms/batch {:5.2f} | '\n",
    "                  'train acc {:5.2f} | val acc {:5.2f} |'.format(\n",
    "                    epoch, i, int(len_train/BATCH_SIZE),\n",
    "                    elapsed * 1000 / log_interval,\n",
    "                    train_accuracy.result() * 100, val_accuracy.result() * 100))\n",
    "            start_time = time.time()"
   ]
  },
  {
   "cell_type": "code",
   "execution_count": 116,
   "metadata": {
    "colab": {},
    "colab_type": "code",
    "executionInfo": {
     "elapsed": 1586,
     "status": "ok",
     "timestamp": 1595580137620,
     "user": {
      "displayName": "Chandu Gundluru",
      "photoUrl": "https://lh3.googleusercontent.com/a-/AOh14GidFgklOcDs2TYAm7XkdUvRzaF_0QWCktV_lCRUQg=s64",
      "userId": "06673751404601892249"
     },
     "user_tz": -330
    },
    "id": "jLXQ8nv0jtbK"
   },
   "outputs": [],
   "source": [
    "from tqdm import tqdm\n",
    "predictions = []\n",
    "reference=[]\n",
    "\n",
    "for i, (input_ids, input_mask, y) in (enumerate(test_ds)):\n",
    "    start_time = time.time()\n",
    "    summaries = model.generate(input_ids=input_ids,max_length=45 ,attention_mask=input_mask)\n",
    "\n",
    "    pred = [tokenizer.decode(g, skip_special_tokens=True, clean_up_tokenization_spaces=False) for g in summaries]\n",
    "    real = [tokenizer.decode(g, skip_special_tokens=True, clean_up_tokenization_spaces=False) for g in y]\n",
    "    \n",
    "    predictions.append(pred)\n",
    "    reference.append(real)"
   ]
  },
  {
   "cell_type": "code",
   "execution_count": 92,
   "metadata": {
    "colab": {
     "base_uri": "https://localhost:8080/",
     "height": 492
    },
    "colab_type": "code",
    "executionInfo": {
     "elapsed": 1620,
     "status": "ok",
     "timestamp": 1595576754031,
     "user": {
      "displayName": "Chandu Gundluru",
      "photoUrl": "https://lh3.googleusercontent.com/a-/AOh14GidFgklOcDs2TYAm7XkdUvRzaF_0QWCktV_lCRUQg=s64",
      "userId": "06673751404601892249"
     },
     "user_tz": -330
    },
    "id": "DFrCuQ47l1du",
    "outputId": "4fdfe975-3e2d-4405-9490-ed4d21b1ed1d"
   },
   "outputs": [
    {
     "name": "stdout",
     "output_type": "stream",
     "text": [
      "------\n",
      "pred_sent : santa barbara county sheriff is department evacuated up to 6,000 people from popular white rock campground spokesman says the flames were 5 contained the forest service expects 700 personnel in place\n",
      "ref_sent : _start_ the white fire covers 1 000 acres and is 5 contained up to 6 000 people were evacuated from a popular camping area the wildfire is moving away from homes and structures authorities say _end_\n",
      "------\n",
      "------\n",
      "pred_sent : argentine president cristina fernandez de kirchner told to take a month off work after doctors diagnosed her with a subdural hematoma diagnosis mean fern\n",
      "ref_sent : _start_ cristina fernandez de kirchner has a blood clot on the surface of her brain a month of rest is recommended spokesman the president suffered cranial trauma in august _\n",
      "------\n",
      "------\n",
      "pred_sent : soyuz capsule carrying south korea is first astronaut landed in northern kazakhstan on saturday 260 miles 418 kilometers off its mark russian space officials say\n",
      "ref_sent : _start_ soyuz capsule lands hundreds of kilometers off target capsule was carrying south korea is first astronaut landing is second time soyuz capsule has gone awry _end_\n",
      "------\n",
      "------\n",
      "pred_sent : mexico is national human rights commission says it is sending representatives to the neighborhood where cartel gunmen stormed a house party in january shooting was a case of mistaken identity\n",
      "ref_sent : _start_ a prosecutor says 14 people were killed and 14 others were injured authorities are investigating the backgrounds of the victims mexico is national human rights commission is sending a team to the neighborhood _end_\n",
      "------\n",
      "------\n",
      "pred_sent : french president nicolas sarkozy is office said the offer came from a consortium led by two french manufacturers dcns and stx working in conjunction with \n",
      "ref_sent : _start_ french led consortium will help build at least two new russian naval vessels the deal will help employ 1 000 people for four years around saint nazaire france _end_\n",
      "------\n",
      "------\n",
      "pred_sent : lionel messi will captain argentina for the first time in cricket mad india . messi has been handed responsibility by new coach alejandro sabella after disappointing copa \n",
      "ref_sent : _start_ lionel messi to captain argentina in friendly against venezuela match is taking place at the cricket stadium in kolkata in india argentina went out of the copa \n",
      "------\n",
      "------\n",
      "pred_sent : sheriff ross mirkarimi is accused of domestic violence with battery , child endangerment and dissuading a witness . sheriff says he will not \n",
      "ref_sent : _start_ sheriff is wife says couple will fight allegations mayor calls charges extremely serious and troubling ross mirkarimi is accused of domestic violence _end_\n",
      "------\n"
     ]
    }
   ],
   "source": [
    "for i in range(0,7):\n",
    "    print(\"------\")\n",
    "    print('pred_sent :',predictions[i] )\n",
    "\n",
    "    print('ref_sent :' , reference[i] )\n",
    "    print(\"------\")"
   ]
  },
  {
   "cell_type": "markdown",
   "metadata": {
    "colab_type": "text",
    "id": "GbzB48kUuhEI"
   },
   "source": [
    "### Rogue score"
   ]
  },
  {
   "cell_type": "code",
   "execution_count": 96,
   "metadata": {
    "colab": {
     "base_uri": "https://localhost:8080/",
     "height": 326
    },
    "colab_type": "code",
    "executionInfo": {
     "elapsed": 11902,
     "status": "ok",
     "timestamp": 1595577030469,
     "user": {
      "displayName": "Chandu Gundluru",
      "photoUrl": "https://lh3.googleusercontent.com/a-/AOh14GidFgklOcDs2TYAm7XkdUvRzaF_0QWCktV_lCRUQg=s64",
      "userId": "06673751404601892249"
     },
     "user_tz": -330
    },
    "id": "jpETCwG4zP35",
    "outputId": "b5d182c3-cc4b-4e15-db29-850e9831fd47"
   },
   "outputs": [
    {
     "name": "stdout",
     "output_type": "stream",
     "text": [
      "Collecting sumeval\n",
      "\u001b[?25l  Downloading https://files.pythonhosted.org/packages/e6/87/bfc0f9397b9421305863edfdd2dbea637e47204976cb5473535c856338f4/sumeval-0.2.2.tar.gz (80kB)\n",
      "\r",
      "\u001b[K     |████                            | 10kB 18.8MB/s eta 0:00:01\r",
      "\u001b[K     |████████▏                       | 20kB 4.7MB/s eta 0:00:01\r",
      "\u001b[K     |████████████▏                   | 30kB 5.8MB/s eta 0:00:01\r",
      "\u001b[K     |████████████████▎               | 40kB 6.5MB/s eta 0:00:01\r",
      "\u001b[K     |████████████████████▎           | 51kB 5.2MB/s eta 0:00:01\r",
      "\u001b[K     |████████████████████████▍       | 61kB 5.7MB/s eta 0:00:01\r",
      "\u001b[K     |████████████████████████████▌   | 71kB 6.3MB/s eta 0:00:01\r",
      "\u001b[K     |████████████████████████████████| 81kB 4.3MB/s \n",
      "\u001b[?25hRequirement already satisfied: plac>=0.9.6 in /usr/local/lib/python3.6/dist-packages (from sumeval) (1.1.3)\n",
      "Collecting sacrebleu>=1.3.2\n",
      "\u001b[?25l  Downloading https://files.pythonhosted.org/packages/66/5b/cf661da8e9b0229f5d98c2961b072a5728fd11a0758957f8c0fd36081c06/sacrebleu-1.4.12-py3-none-any.whl (54kB)\n",
      "\u001b[K     |████████████████████████████████| 61kB 6.9MB/s \n",
      "\u001b[?25hCollecting portalocker\n",
      "  Downloading https://files.pythonhosted.org/packages/3b/e7/ceef002a300a98a208232fab593183249b6964b306ee7dabb29908419cca/portalocker-1.7.1-py2.py3-none-any.whl\n",
      "Collecting mecab-python3==0.996.5\n",
      "\u001b[?25l  Downloading https://files.pythonhosted.org/packages/18/49/b55a839a77189042960bf96490640c44816073f917d489acbc5d79fa5cc3/mecab_python3-0.996.5-cp36-cp36m-manylinux2010_x86_64.whl (17.1MB)\n",
      "\u001b[K     |████████████████████████████████| 17.1MB 201kB/s \n",
      "\u001b[?25hBuilding wheels for collected packages: sumeval\n",
      "  Building wheel for sumeval (setup.py) ... \u001b[?25l\u001b[?25hdone\n",
      "  Created wheel for sumeval: filename=sumeval-0.2.2-cp36-none-any.whl size=54535 sha256=1a34fbea531fa6cbc5b07b6fbc481fb1443d6ed659e9952f0f3e44a3cbb259f9\n",
      "  Stored in directory: /root/.cache/pip/wheels/7b/6f/57/19ceecab21445c88f3c565735fa1887b4cd18d340c972eb445\n",
      "Successfully built sumeval\n",
      "Installing collected packages: portalocker, mecab-python3, sacrebleu, sumeval\n",
      "Successfully installed mecab-python3-0.996.5 portalocker-1.7.1 sacrebleu-1.4.12 sumeval-0.2.2\n"
     ]
    }
   ],
   "source": [
    "!pip install sumeval"
   ]
  },
  {
   "cell_type": "code",
   "execution_count": 100,
   "metadata": {
    "colab": {},
    "colab_type": "code",
    "executionInfo": {
     "elapsed": 1418,
     "status": "ok",
     "timestamp": 1595577080652,
     "user": {
      "displayName": "Chandu Gundluru",
      "photoUrl": "https://lh3.googleusercontent.com/a-/AOh14GidFgklOcDs2TYAm7XkdUvRzaF_0QWCktV_lCRUQg=s64",
      "userId": "06673751404601892249"
     },
     "user_tz": -330
    },
    "id": "sdhHQMzszTaY"
   },
   "outputs": [],
   "source": [
    "from sumeval.metrics.rouge import RougeCalculator\n",
    "import numpy as np"
   ]
  },
  {
   "cell_type": "code",
   "execution_count": 104,
   "metadata": {
    "colab": {
     "base_uri": "https://localhost:8080/",
     "height": 33
    },
    "colab_type": "code",
    "executionInfo": {
     "elapsed": 1505,
     "status": "ok",
     "timestamp": 1595577224365,
     "user": {
      "displayName": "Chandu Gundluru",
      "photoUrl": "https://lh3.googleusercontent.com/a-/AOh14GidFgklOcDs2TYAm7XkdUvRzaF_0QWCktV_lCRUQg=s64",
      "userId": "06673751404601892249"
     },
     "user_tz": -330
    },
    "id": "dKtDJSWytx-P",
    "outputId": "04dbbc62-8ab5-4e3b-c8ff-f220303b6dd3"
   },
   "outputs": [
    {
     "name": "stdout",
     "output_type": "stream",
     "text": [
      "ROUGE-1: 0.395, ROUGE-2: 0.169, ROUGE-L: 0.352\n"
     ]
    }
   ],
   "source": [
    "rouge = RougeCalculator(stopwords=True, lang=\"en\")\n",
    "Rouge_1 = []\n",
    "Rouge_2 = []\n",
    "Rouge_l = []\n",
    "\n",
    "for i in range(len(predictions)):\n",
    "\n",
    "    rouge_1 = rouge.rouge_n(\n",
    "    summary=predictions[i],\n",
    "    references=reference[i],\n",
    "    n=1)\n",
    "    \n",
    "    Rouge_1.append(rouge_1)\n",
    " \n",
    " \n",
    " ## rogue_2\n",
    "\n",
    "    rouge_2 = rouge.rouge_n(\n",
    "     summary=predictions[i],\n",
    "     references=reference[i],\n",
    "    n=2)\n",
    "    Rouge_2.append(rouge_2)\n",
    " ## rogue_l\n",
    "\n",
    "    rouge_l = rouge.rouge_l(\n",
    "     summary=predictions[i],\n",
    "     references=reference[i])\n",
    "    Rouge_l.append(rouge_l)\n",
    "\n",
    "print(\"ROUGE-1: {}, ROUGE-2: {}, ROUGE-L: {}\".format(np.round(sum(Rouge_1)/len(Rouge_1),3),\n",
    " np.round(sum(Rouge_2)/len(Rouge_2),3),\n",
    " np.round(sum(Rouge_l)/len(Rouge_l),3)\n",
    "))"
   ]
  },
  {
   "cell_type": "code",
   "execution_count": null,
   "metadata": {
    "colab": {},
    "colab_type": "code",
    "id": "ndJuzX3o3kq_"
   },
   "outputs": [],
   "source": [
    "%cd /content/gdrive/My\\ Drive/"
   ]
  },
  {
   "cell_type": "code",
   "execution_count": 116,
   "metadata": {
    "colab": {},
    "colab_type": "code",
    "executionInfo": {
     "elapsed": 2320,
     "status": "ok",
     "timestamp": 1595579147926,
     "user": {
      "displayName": "Chandu Gundluru",
      "photoUrl": "https://lh3.googleusercontent.com/a-/AOh14GidFgklOcDs2TYAm7XkdUvRzaF_0QWCktV_lCRUQg=s64",
      "userId": "06673751404601892249"
     },
     "user_tz": -330
    },
    "id": "_dcvB3GX7K51"
   },
   "outputs": [],
   "source": [
    "model.save_weights('t5model.h5')"
   ]
  }
 ],
 "metadata": {
  "accelerator": "GPU",
  "colab": {
   "collapsed_sections": [],
   "name": "T5_finetuning.ipynb",
   "provenance": []
  },
  "kernelspec": {
   "display_name": "Python 3",
   "language": "python",
   "name": "python3"
  },
  "language_info": {
   "codemirror_mode": {
    "name": "ipython",
    "version": 3
   },
   "file_extension": ".py",
   "mimetype": "text/x-python",
   "name": "python",
   "nbconvert_exporter": "python",
   "pygments_lexer": "ipython3",
   "version": "3.7.4"
  }
 },
 "nbformat": 4,
 "nbformat_minor": 1
}
