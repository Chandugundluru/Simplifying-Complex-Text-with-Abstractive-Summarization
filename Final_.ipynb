{
 "cells": [
  {
   "cell_type": "code",
   "execution_count": 9,
   "metadata": {
    "colab": {},
    "colab_type": "code",
    "executionInfo": {
     "elapsed": 9843,
     "status": "ok",
     "timestamp": 1595579242201,
     "user": {
      "displayName": "chandrasekhar gundluru",
      "photoUrl": "",
      "userId": "17474775707066409645"
     },
     "user_tz": -330
    },
    "id": "vbEtJATgaIzv"
   },
   "outputs": [],
   "source": [
    "from os import listdir\n",
    "import string\n",
    "from tqdm import tqdm\n",
    "import re\n",
    "import pandas as pd\n",
    "import numpy as np\n",
    "\n",
    "import tensorflow as tf\n",
    "import pandas as pd\n",
    "from transformers import T5Tokenizer, TFT5Model, TFT5ForConditionalGeneration\n",
    "import tensorflow_datasets as tfds\n",
    "import time\n",
    "import logging\n",
    "logging.basicConfig(level=logging.ERROR)\n"
   ]
  },
  {
   "cell_type": "markdown",
   "metadata": {
    "colab_type": "text",
    "id": "vVmTz1038GWW"
   },
   "source": [
    "## loading best model\n"
   ]
  },
  {
   "cell_type": "code",
   "execution_count": 10,
   "metadata": {
    "colab": {
     "base_uri": "https://localhost:8080/",
     "height": 161,
     "referenced_widgets": [
      "7d921f5a8f824358997e13bb01ec412b",
      "28633db0eb8d4528a90015eb39407868",
      "4991781483254906bc10e30cff25683f",
      "1edbfee9f1e14dc8b9f7307f54f3337e",
      "04c330ebdfa74f918174210d03501e24",
      "63c94284080c49fcb9b450a7e93885f1",
      "601b7d19f97349a2a0e2226f9f323931",
      "6081bec54fd8474d909a72d2c73defb2",
      "5d8fc0cb5e3c4ae28ee4f4e09ab74b1a",
      "bd986fd992f240ad950588bc525e597a",
      "4a89639fa1604b32b46ad6609bdbf636",
      "7b3fc31a4b40475b88fa745ae8621760",
      "979e39ac16ad4af4b0b2cee2fd3216a0",
      "c90cf919394e44c996f0da26ee5f187f",
      "89bb9b780dd24eb289a01e679462a8af",
      "4faf41b72be54fc6a04c6bde80de8981",
      "aecf4063fe8046bfa336be789119e1a9",
      "5ed2f7a4b1a546bca40c771f9b390d26",
      "fd2ec85740af469ca482871933884e75",
      "1d7be220ab4f478fad46375ec3036ec4",
      "3038aabe47044f54887ebb655e1029bb",
      "e3f87fe4a8954a3998d5b087081a212e",
      "4e62e0e6bf634110b59e347174a649f6",
      "ef58084804634d21b31c3ce7e699e083"
     ]
    },
    "colab_type": "code",
    "executionInfo": {
     "elapsed": 27059,
     "status": "ok",
     "timestamp": 1595579262704,
     "user": {
      "displayName": "chandrasekhar gundluru",
      "photoUrl": "",
      "userId": "17474775707066409645"
     },
     "user_tz": -330
    },
    "id": "cWEDCfhEgbp2",
    "outputId": "c40b1097-099d-4c6b-9b1f-23c340e1aa2e"
   },
   "outputs": [
    {
     "data": {
      "application/vnd.jupyter.widget-view+json": {
       "model_id": "7d921f5a8f824358997e13bb01ec412b",
       "version_major": 2,
       "version_minor": 0
      },
      "text/plain": [
       "HBox(children=(FloatProgress(value=0.0, description='Downloading', max=791656.0, style=ProgressStyle(descripti…"
      ]
     },
     "metadata": {
      "tags": []
     },
     "output_type": "display_data"
    },
    {
     "name": "stdout",
     "output_type": "stream",
     "text": [
      "\n"
     ]
    },
    {
     "data": {
      "application/vnd.jupyter.widget-view+json": {
       "model_id": "5d8fc0cb5e3c4ae28ee4f4e09ab74b1a",
       "version_major": 2,
       "version_minor": 0
      },
      "text/plain": [
       "HBox(children=(FloatProgress(value=0.0, description='Downloading', max=1197.0, style=ProgressStyle(description…"
      ]
     },
     "metadata": {
      "tags": []
     },
     "output_type": "display_data"
    },
    {
     "name": "stdout",
     "output_type": "stream",
     "text": [
      "\n"
     ]
    },
    {
     "data": {
      "application/vnd.jupyter.widget-view+json": {
       "model_id": "aecf4063fe8046bfa336be789119e1a9",
       "version_major": 2,
       "version_minor": 0
      },
      "text/plain": [
       "HBox(children=(FloatProgress(value=0.0, description='Downloading', max=242303832.0, style=ProgressStyle(descri…"
      ]
     },
     "metadata": {
      "tags": []
     },
     "output_type": "display_data"
    },
    {
     "name": "stdout",
     "output_type": "stream",
     "text": [
      "\n"
     ]
    }
   ],
   "source": [
    "tokenizer = T5Tokenizer.from_pretrained('t5-small')\n",
    "model = TFT5ForConditionalGeneration.from_pretrained('t5-small')\n",
    "\n",
    "task_specific_params = model.config.task_specific_params\n",
    "if task_specific_params is not None:\n",
    "    model.config.update(task_specific_params.get(\"summarization\", {}))\n",
    "    \n",
    "pad_token_id = tokenizer.pad_token_id"
   ]
  },
  {
   "cell_type": "code",
   "execution_count": 12,
   "metadata": {
    "colab": {
     "base_uri": "https://localhost:8080/",
     "height": 245
    },
    "colab_type": "code",
    "executionInfo": {
     "elapsed": 1630,
     "status": "ok",
     "timestamp": 1595579284973,
     "user": {
      "displayName": "chandrasekhar gundluru",
      "photoUrl": "",
      "userId": "17474775707066409645"
     },
     "user_tz": -330
    },
    "id": "OTOAF8kH7n5K",
    "outputId": "f748b43c-2555-4190-8b1f-bd31597d4905"
   },
   "outputs": [
    {
     "name": "stdout",
     "output_type": "stream",
     "text": [
      "Model: \"tf_t5for_conditional_generation\"\n",
      "_________________________________________________________________\n",
      "Layer (type)                 Output Shape              Param #   \n",
      "=================================================================\n",
      "shared (TFSharedEmbeddings)  multiple                  16449536  \n",
      "_________________________________________________________________\n",
      "encoder (TFT5MainLayer)      multiple                  18881280  \n",
      "_________________________________________________________________\n",
      "decoder (TFT5MainLayer)      multiple                  25176064  \n",
      "=================================================================\n",
      "Total params: 60,506,880\n",
      "Trainable params: 60,506,880\n",
      "Non-trainable params: 0\n",
      "_________________________________________________________________\n"
     ]
    }
   ],
   "source": [
    "\n",
    "optimizer = tf.keras.optimizers.Adam(learning_rate=3e-5, epsilon=1e-08, clipnorm=1.0)\n",
    "loss_object = tf.keras.losses.SparseCategoricalCrossentropy(from_logits=True)\n",
    "\n",
    "\n",
    "train_accuracy = tf.keras.metrics.SparseCategoricalAccuracy(name='train_accuracy')\n",
    "\n",
    "\n",
    "val_accuracy = tf.keras.metrics.SparseCategoricalAccuracy(name='val_accuracy')\n",
    "\n",
    "model.summary()"
   ]
  },
  {
   "cell_type": "code",
   "execution_count": 14,
   "metadata": {
    "colab": {
     "base_uri": "https://localhost:8080/",
     "height": 118
    },
    "colab_type": "code",
    "executionInfo": {
     "elapsed": 39719,
     "status": "ok",
     "timestamp": 1595579400655,
     "user": {
      "displayName": "chandrasekhar gundluru",
      "photoUrl": "",
      "userId": "17474775707066409645"
     },
     "user_tz": -330
    },
    "id": "b-b_OKjj8NuA",
    "outputId": "5946650d-367c-4177-8301-c994ba617276"
   },
   "outputs": [
    {
     "name": "stdout",
     "output_type": "stream",
     "text": [
      "Go to this URL in a browser: https://accounts.google.com/o/oauth2/auth?client_id=947318989803-6bn6qk8qdgf4n4g3pfee6491hc0brc4i.apps.googleusercontent.com&redirect_uri=urn%3aietf%3awg%3aoauth%3a2.0%3aoob&response_type=code&scope=email%20https%3a%2f%2fwww.googleapis.com%2fauth%2fdocs.test%20https%3a%2f%2fwww.googleapis.com%2fauth%2fdrive%20https%3a%2f%2fwww.googleapis.com%2fauth%2fdrive.photos.readonly%20https%3a%2f%2fwww.googleapis.com%2fauth%2fpeopleapi.readonly\n",
      "\n",
      "Enter your authorization code:\n",
      "··········\n",
      "Mounted at /content/gdrive\n"
     ]
    }
   ],
   "source": [
    "from google.colab import drive\n",
    "drive.mount('/content/gdrive')"
   ]
  },
  {
   "cell_type": "code",
   "execution_count": 15,
   "metadata": {
    "colab": {
     "base_uri": "https://localhost:8080/",
     "height": 33
    },
    "colab_type": "code",
    "executionInfo": {
     "elapsed": 6706,
     "status": "ok",
     "timestamp": 1595579400657,
     "user": {
      "displayName": "chandrasekhar gundluru",
      "photoUrl": "",
      "userId": "17474775707066409645"
     },
     "user_tz": -330
    },
    "id": "LW-pArmS8Rqy",
    "outputId": "23f833e2-0d46-4331-a927-ab3580fbd7a6"
   },
   "outputs": [
    {
     "name": "stdout",
     "output_type": "stream",
     "text": [
      "/content/gdrive/My Drive\n"
     ]
    }
   ],
   "source": [
    "%cd /content/gdrive/My\\ Drive/"
   ]
  },
  {
   "cell_type": "markdown",
   "metadata": {
    "colab_type": "text",
    "id": "3jyZZFnf_hTk"
   },
   "source": [
    "### loading best_model weights"
   ]
  },
  {
   "cell_type": "code",
   "execution_count": 16,
   "metadata": {
    "colab": {},
    "colab_type": "code",
    "executionInfo": {
     "elapsed": 10247,
     "status": "ok",
     "timestamp": 1595579406999,
     "user": {
      "displayName": "chandrasekhar gundluru",
      "photoUrl": "",
      "userId": "17474775707066409645"
     },
     "user_tz": -330
    },
    "id": "Vdkvsp1c7xju"
   },
   "outputs": [],
   "source": [
    "model.load_weights('t5model.h5')"
   ]
  },
  {
   "cell_type": "code",
   "execution_count": null,
   "metadata": {},
   "outputs": [],
   "source": [
    "BATCH_SIZE = 64\n",
    "SHUFFEL_SIZE = 1024\n",
    "learning_rate = 3e-5"
   ]
  },
  {
   "cell_type": "markdown",
   "metadata": {
    "colab_type": "text",
    "id": "Yu17PTBK_sJr"
   },
   "source": [
    "### Function1"
   ]
  },
  {
   "cell_type": "code",
   "execution_count": 17,
   "metadata": {
    "colab": {},
    "colab_type": "code",
    "executionInfo": {
     "elapsed": 1742,
     "status": "ok",
     "timestamp": 1595579822558,
     "user": {
      "displayName": "chandrasekhar gundluru",
      "photoUrl": "",
      "userId": "17474775707066409645"
     },
     "user_tz": -330
    },
    "id": "XivD0Sb9b4T7"
   },
   "outputs": [],
   "source": [
    "def fun1(path):\n",
    "    \n",
    "    directory = path\n",
    "    \n",
    "    \n",
    "    def loading_articles(file_name):\n",
    "        file = open(file_name, encoding='utf-8')\n",
    "        text = file.read()\n",
    "        file.close()\n",
    "        return text\n",
    "    \n",
    "    def split_story(doc):\n",
    "        index = doc.find('@highlight')\n",
    "        story, highlights = doc[:index], doc[index:].split('@highlight')\n",
    "        highlights = [h.strip() for h in highlights if len(h) > 0]\n",
    "        return story, highlights\n",
    "\n",
    "\n",
    "    \n",
    "    stories = list()\n",
    "    for name in (listdir(directory)):\n",
    "        filename = directory + '/' + name\n",
    "        doc = loading_articles(filename)\n",
    "        story, highlights = split_story(doc)\n",
    "        stories.append({'story':story, 'highlights':highlights})\n",
    "        \n",
    "   \n",
    "    CNN = pd.DataFrame.from_dict(cnn_stories)\n",
    "    CNN.columns = ['article','summary']\n",
    "    CNN.to_csv('CNN_with_summary.csv',index=False)\n",
    "\n",
    "\n",
    "    def decontracted(phrase):\n",
    "\n",
    "        phrase = re.sub(r\"won't\", \"will not\", phrase)\n",
    "        phrase = re.sub(r\"can\\'t\", \"can not\", phrase)\n",
    "        phrase = re.sub(r\"n\\'t\", \" not\", phrase)\n",
    "        phrase = re.sub(r\"\\'re\", \" are\", phrase)\n",
    "        phrase = re.sub(r\"\\'s\", \" is\", phrase)\n",
    "        phrase = re.sub(r\"\\'d\", \" would\", phrase)\n",
    "        phrase = re.sub(r\"\\'ll\", \" will\", phrase)\n",
    "        phrase = re.sub(r\"\\'t\", \" not\", phrase)\n",
    "        phrase = re.sub(r\"\\'ve\", \" have\", phrase)\n",
    "        phrase = re.sub(r\"\\'m\", \" am\", phrase)\n",
    "        return phrase\n",
    "\n",
    "    \n",
    "    article_text=[]\n",
    "    summary_text=[]\n",
    "    for i in CNN.article.values:\n",
    "        tt=re.sub(r'\\n',' ', i)\n",
    "        tt=re.sub(r'>',' ', tt)\n",
    "        tt=re.sub(r'<',' ', tt)\n",
    "        tt=re.sub(r'(CNN)',' ', tt)\n",
    "        tt=re.sub(r'LRB',' ', tt)\n",
    "        tt=re.sub(r'RRB',' ', tt)\n",
    "        tt = re.sub(r'[\" \"]+', \" \", tt)\n",
    "        tt=re.sub(r'-- ',' ', tt)\n",
    "        tt=re.sub(r\"([?!¿])\", r\" \\1 \", tt)\n",
    "        tt=re.sub(r'-',' ', tt)\n",
    "        tt=tt.replace('/',' ')\n",
    "        tt=re.sub(r'\\s+', ' ', tt)\n",
    "        tt=decontracted(tt)\n",
    "        tt = re.sub('[^A-Za-z0-9.,]+', ' ', tt)\n",
    "        tt = tt.lower()\n",
    "        article_text.append(tt)\n",
    "    article_text=np.array(article_text)\n",
    "    article_text=article_text.reshape(-1,1)\n",
    "    data_article=pd.DataFrame(article_text,columns=['Article'])\n",
    "\n",
    "   \n",
    "    for i in CNN.summary.values:\n",
    "        tt=re.sub(r'\\n',' ', i)\n",
    "        tt=re.sub(r'>',' ', tt)\n",
    "        tt=re.sub(r'<',' ', tt)\n",
    "        tt=re.sub(r'-',' ', tt)\n",
    "        tt = re.sub(r'[\" \"]+', \" \", tt)\n",
    "        tt=re.sub(r'-- ',' ', tt)\n",
    "        tt=tt.replace('/',' ')\n",
    "        tt=re.sub(r'\\s+', ' ', tt)\n",
    "        tt=decontracted(tt)\n",
    "        tt = re.sub('[^A-Za-z0-9.]+', ' ', tt)\n",
    "        tt = tt.lower()\n",
    "        summary_text.append(tt)\n",
    "    summary_text=np.array(summary_text)\n",
    "    summary_text=summary_text.reshape(-1,1)\n",
    "    data_summ=pd.DataFrame(summary_text,columns=['Summary'])\n",
    "    data_cleaned=data_article.join(data_summ)\n",
    "    \n",
    "    \n",
    "    def normalize_text(text):\n",
    "    \n",
    "        text = tf.strings.lower(text)\n",
    "        text = tf.strings.regex_replace(text,\"'(.*)'\", r\"\\1\")\n",
    "        return text.numpy().decode('UTF-8')\n",
    "\n",
    "    def tokenize_articles(text):\n",
    "        text = normalize_text(text)\n",
    "        ids = tokenizer.encode_plus((model.config.prefix + text), return_tensors=\"tf\", max_length=350, truncation='longest_first') \n",
    "\n",
    "        return tf.squeeze(ids['input_ids']), tf.squeeze(ids['attention_mask'])\n",
    "        \n",
    "    def tokenize_highlights(text):\n",
    "        text = normalize_text(text)\n",
    "        ids = tokenizer.encode(text, return_tensors=\"tf\", max_length=50)\n",
    "        return tf.squeeze(ids)\n",
    "\n",
    "\n",
    "    def map_func(x, y):\n",
    "        article_ids, attention_mask = tf.py_function(tokenize_articles, inp=[x], Tout=(tf.int32, tf.int32))\n",
    "        highlights_ids = tf.py_function(tokenize_highlights, inp=[y], Tout=tf.int32)\n",
    "\n",
    "        return article_ids, attention_mask, highlights_ids\n",
    "\n",
    "    \n",
    "    tfds = tf.data.Dataset.from_tensor_slices((data_cleaned.Article.values, data_cleaned.Summary.values))\n",
    " \n",
    "\n",
    "    ds = tfds.map(map_func)\\\n",
    "    .shuffle(1024)\\\n",
    "    .padded_batch(64, padded_shapes=([350],[350],[50]))\\\n",
    "    .prefetch(tf.data.experimental.AUTOTUNE)\n",
    "\n",
    "\n",
    "\n",
    "\n",
    "\n",
    "    predictions = []\n",
    "    for i, (input_ids, input_mask, y) in (enumerate(ds)):\n",
    "        summaries = model.generate(input_ids=input_ids,max_length=45 ,attention_mask=input_mask)\n",
    "        pred = [tokenizer.decode(g, skip_special_tokens=True, clean_up_tokenization_spaces=False) for g in summaries]\n",
    "        predictions.append(pred)\n",
    "\n",
    "    return predictions\n",
    "    \n"
   ]
  },
  {
   "cell_type": "markdown",
   "metadata": {
    "colab_type": "text",
    "id": "IuvEAyqx_zGl"
   },
   "source": [
    "### Function_2"
   ]
  },
  {
   "cell_type": "markdown",
   "metadata": {
    "colab_type": "text",
    "id": "QsePFShi_9b6"
   },
   "source": [
    "### fun2(X,labels)\n",
    "\n",
    "### in our case summaries are present in raw text so didnt give label arg to fun2  "
   ]
  },
  {
   "cell_type": "code",
   "execution_count": 44,
   "metadata": {
    "colab": {
     "base_uri": "https://localhost:8080/",
     "height": 326
    },
    "colab_type": "code",
    "executionInfo": {
     "elapsed": 11016,
     "status": "ok",
     "timestamp": 1595583814929,
     "user": {
      "displayName": "chandrasekhar gundluru",
      "photoUrl": "",
      "userId": "17474775707066409645"
     },
     "user_tz": -330
    },
    "id": "g8nl6uCjNG5W",
    "outputId": "08e44d9e-818b-46cc-aa8d-5ae518c5d321"
   },
   "outputs": [
    {
     "name": "stdout",
     "output_type": "stream",
     "text": [
      "Collecting sumeval\n",
      "\u001b[?25l  Downloading https://files.pythonhosted.org/packages/e6/87/bfc0f9397b9421305863edfdd2dbea637e47204976cb5473535c856338f4/sumeval-0.2.2.tar.gz (80kB)\n",
      "\u001b[K     |████████████████████████████████| 81kB 2.2MB/s \n",
      "\u001b[?25hRequirement already satisfied: plac>=0.9.6 in /usr/local/lib/python3.6/dist-packages (from sumeval) (1.1.3)\n",
      "Collecting sacrebleu>=1.3.2\n",
      "\u001b[?25l  Downloading https://files.pythonhosted.org/packages/66/5b/cf661da8e9b0229f5d98c2961b072a5728fd11a0758957f8c0fd36081c06/sacrebleu-1.4.12-py3-none-any.whl (54kB)\n",
      "\u001b[K     |████████████████████████████████| 61kB 6.7MB/s \n",
      "\u001b[?25hCollecting mecab-python3==0.996.5\n",
      "\u001b[?25l  Downloading https://files.pythonhosted.org/packages/18/49/b55a839a77189042960bf96490640c44816073f917d489acbc5d79fa5cc3/mecab_python3-0.996.5-cp36-cp36m-manylinux2010_x86_64.whl (17.1MB)\n",
      "\u001b[K     |████████████████████████████████| 17.1MB 257kB/s \n",
      "\u001b[?25hCollecting portalocker\n",
      "  Downloading https://files.pythonhosted.org/packages/3b/e7/ceef002a300a98a208232fab593183249b6964b306ee7dabb29908419cca/portalocker-1.7.1-py2.py3-none-any.whl\n",
      "Building wheels for collected packages: sumeval\n",
      "  Building wheel for sumeval (setup.py) ... \u001b[?25l\u001b[?25hdone\n",
      "  Created wheel for sumeval: filename=sumeval-0.2.2-cp36-none-any.whl size=54535 sha256=b9a7ee93e54e113f522142a92a0f96e80570d88960d3eec31fb9cad5a26e0b47\n",
      "  Stored in directory: /root/.cache/pip/wheels/7b/6f/57/19ceecab21445c88f3c565735fa1887b4cd18d340c972eb445\n",
      "Successfully built sumeval\n",
      "Installing collected packages: mecab-python3, portalocker, sacrebleu, sumeval\n",
      "Successfully installed mecab-python3-0.996.5 portalocker-1.7.1 sacrebleu-1.4.12 sumeval-0.2.2\n"
     ]
    }
   ],
   "source": [
    "!pip install sumeval"
   ]
  },
  {
   "cell_type": "code",
   "execution_count": 45,
   "metadata": {
    "colab": {},
    "colab_type": "code",
    "executionInfo": {
     "elapsed": 1578,
     "status": "ok",
     "timestamp": 1595583828475,
     "user": {
      "displayName": "chandrasekhar gundluru",
      "photoUrl": "",
      "userId": "17474775707066409645"
     },
     "user_tz": -330
    },
    "id": "ZYq4z7KFNLy7"
   },
   "outputs": [],
   "source": [
    "from sumeval.metrics.rouge import RougeCalculator\n"
   ]
  },
  {
   "cell_type": "code",
   "execution_count": 46,
   "metadata": {
    "colab": {},
    "colab_type": "code",
    "executionInfo": {
     "elapsed": 1496,
     "status": "ok",
     "timestamp": 1595583837554,
     "user": {
      "displayName": "chandrasekhar gundluru",
      "photoUrl": "",
      "userId": "17474775707066409645"
     },
     "user_tz": -330
    },
    "id": "c40EfTeZ_yOB"
   },
   "outputs": [],
   "source": [
    "def fun2(path):\n",
    "    \n",
    "    directory = path\n",
    "    \n",
    "    \n",
    "    def loading_articles(file_name):\n",
    "        file = open(file_name, encoding='utf-8')\n",
    "        text = file.read()\n",
    "        file.close()\n",
    "        return text\n",
    "    \n",
    "    def split_story(doc):\n",
    "        index = doc.find('@highlight')\n",
    "        story, highlights = doc[:index], doc[index:].split('@highlight')\n",
    "        highlights = [h.strip() for h in highlights if len(h) > 0]\n",
    "        return story, highlights\n",
    "\n",
    "\n",
    "    \n",
    "\n",
    "    stories = list()\n",
    "    for name in (listdir(directory)):\n",
    "        filename = directory + '/' + name\n",
    "        doc = loading_articles(filename)\n",
    "        story, highlights = split_story(doc)\n",
    "        stories.append({'story':story, 'highlights':highlights})\n",
    "        \n",
    "   \n",
    "    CNN = pd.DataFrame.from_dict(stories)\n",
    "    CNN.columns = ['article','summary']\n",
    "\n",
    "\n",
    "\n",
    "    def decontracted(phrase):\n",
    "\n",
    "        phrase = re.sub(r\"won't\", \"will not\", phrase)\n",
    "        phrase = re.sub(r\"can\\'t\", \"can not\", phrase)\n",
    "        phrase = re.sub(r\"n\\'t\", \" not\", phrase)\n",
    "        phrase = re.sub(r\"\\'re\", \" are\", phrase)\n",
    "        phrase = re.sub(r\"\\'s\", \" is\", phrase)\n",
    "        phrase = re.sub(r\"\\'d\", \" would\", phrase)\n",
    "        phrase = re.sub(r\"\\'ll\", \" will\", phrase)\n",
    "        phrase = re.sub(r\"\\'t\", \" not\", phrase)\n",
    "        phrase = re.sub(r\"\\'ve\", \" have\", phrase)\n",
    "        phrase = re.sub(r\"\\'m\", \" am\", phrase)\n",
    "        return phrase\n",
    "\n",
    "    \n",
    "    article_text=[]\n",
    "    summary_text=[]\n",
    "    for i in CNN.article.values:\n",
    "        tt=re.sub(r'\\n',' ', i)\n",
    "        tt=re.sub(r'>',' ', tt)\n",
    "        tt=re.sub(r'<',' ', tt)\n",
    "        tt=re.sub(r'(CNN)',' ', tt)\n",
    "        tt=re.sub(r'LRB',' ', tt)\n",
    "        tt=re.sub(r'RRB',' ', tt)\n",
    "        tt = re.sub(r'[\" \"]+', \" \", tt)\n",
    "        tt=re.sub(r'-- ',' ', tt)\n",
    "        tt=re.sub(r\"([?!¿])\", r\" \\1 \", tt)\n",
    "        tt=re.sub(r'-',' ', tt)\n",
    "        tt=tt.replace('/',' ')\n",
    "        tt=re.sub(r'\\s+', ' ', tt)\n",
    "        tt=decontracted(tt)\n",
    "        tt = re.sub('[^A-Za-z0-9.,]+', ' ', tt)\n",
    "        tt = tt.lower()\n",
    "        article_text.append(tt)\n",
    "    article_text=np.array(article_text)\n",
    "    article_text=article_text.reshape(-1,1)\n",
    "    \n",
    "    data_article=pd.DataFrame(article_text,columns=['Article'])\n",
    "\n",
    "   \n",
    "    for i in CNN.summary.values:\n",
    "        tt=re.sub(r'\\n',' ', i)\n",
    "        tt=re.sub(r'>',' ', tt)\n",
    "        tt=re.sub(r'<',' ', tt)\n",
    "        tt=re.sub(r'-',' ', tt)\n",
    "        tt = re.sub(r'[\" \"]+', \" \", tt)\n",
    "        tt=re.sub(r'-- ',' ', tt)\n",
    "        tt=tt.replace('/',' ')\n",
    "        tt=re.sub(r'\\s+', ' ', tt)\n",
    "        tt=decontracted(tt)\n",
    "        tt = re.sub('[^A-Za-z0-9.]+', ' ', tt)\n",
    "        tt = tt.lower()\n",
    "        summary_text.append(tt)\n",
    "    summary_text=np.array(summary_text)\n",
    "    summary_text=summary_text.reshape(-1,1)\n",
    "    \n",
    "    data_summ=pd.DataFrame(summary_text,columns=['Summary'])\n",
    "    data_cleaned=data_article.join(data_summ)\n",
    "    \n",
    "    \n",
    "    def normalize_text(text):\n",
    "    \n",
    "        text = tf.strings.lower(text)\n",
    "        text = tf.strings.regex_replace(text,\"'(.*)'\", r\"\\1\")\n",
    "        return text.numpy().decode('UTF-8')\n",
    "\n",
    "    def tokenize_articles(text):\n",
    "        text = normalize_text(text)\n",
    "        ids = tokenizer.encode_plus((model.config.prefix + text), return_tensors=\"tf\", max_length=350, truncation='longest_first') \n",
    "\n",
    "        return tf.squeeze(ids['input_ids']), tf.squeeze(ids['attention_mask'])\n",
    "        \n",
    "    def tokenize_highlights(text):\n",
    "        text = normalize_text(text)\n",
    "        ids = tokenizer.encode(text, return_tensors=\"tf\", max_length=50)\n",
    "        return tf.squeeze(ids)\n",
    "\n",
    "\n",
    "    def map_func(x, y):\n",
    "        article_ids, attention_mask = tf.py_function(tokenize_articles, inp=[x], Tout=(tf.int32, tf.int32))\n",
    "        highlights_ids = tf.py_function(tokenize_highlights, inp=[y], Tout=tf.int32)\n",
    "\n",
    "        return article_ids, attention_mask, highlights_ids\n",
    "\n",
    "    \n",
    "    tfds = tf.data.Dataset.from_tensor_slices((data_cleaned.Article.values, data_cleaned.Summary.values))\n",
    " \n",
    "\n",
    "    ds = tfds.map(map_func)\\\n",
    "    .shuffle(1024)\\\n",
    "    .padded_batch(64, padded_shapes=([350],[350],[50]))\\\n",
    "    .prefetch(tf.data.experimental.AUTOTUNE)\n",
    "\n",
    "\n",
    "    predictions = []\n",
    "    reference=[]\n",
    "    for i, (input_ids, input_mask, y) in (enumerate(ds)):\n",
    "        summaries = model.generate(input_ids=input_ids,max_length=45 ,attention_mask=input_mask)\n",
    "        pred = [tokenizer.decode(g, skip_special_tokens=True, clean_up_tokenization_spaces=False) for g in summaries]\n",
    "        real = [tokenizer.decode(g, skip_special_tokens=True, clean_up_tokenization_spaces=False) for g in y]\n",
    "        predictions.append(pred)\n",
    "        reference.append(real)\n",
    "\n",
    "\n",
    "    rouge = RougeCalculator(stopwords=True, lang=\"en\")\n",
    "    Rouge_1 = []\n",
    "    Rouge_2 = []\n",
    "    Rouge_l = []\n",
    "\n",
    "    for i in range(len(predictions)):\n",
    "\n",
    "        rouge_1 = rouge.rouge_n(\n",
    "        summary=predictions[i],\n",
    "        references=reference[i],\n",
    "        n=1)\n",
    "        Rouge_1.append(rouge_1)\n",
    " \n",
    " \n",
    " ## rogue_2\n",
    "\n",
    "        rouge_2 = rouge.rouge_n(\n",
    "        summary=predictions[i],\n",
    "        references=reference[i],\n",
    "        n=2)\n",
    "        Rouge_2.append(rouge_2)\n",
    " ## rogue_l\n",
    "\n",
    "        rouge_l = rouge.rouge_l(\n",
    "        summary=predictions[i],\n",
    "        references=reference[i])\n",
    "        Rouge_l.append(rouge_l)\n",
    "\n",
    "\n",
    "\n",
    "\n",
    "    return print(\"ROUGE-1: {}, ROUGE-2: {}, ROUGE-L: {}\".format(np.round(sum(Rouge_1)/len(Rouge_1),3),\n",
    " np.round(sum(Rouge_2)/len(Rouge_2),3),\n",
    " np.round(sum(Rouge_l)/len(Rouge_l),3)\n",
    "))\n",
    "    "
   ]
  },
  {
   "cell_type": "code",
   "execution_count": 47,
   "metadata": {
    "colab": {
     "base_uri": "https://localhost:8080/",
     "height": 33
    },
    "colab_type": "code",
    "executionInfo": {
     "elapsed": 1536,
     "status": "ok",
     "timestamp": 1595583853814,
     "user": {
      "displayName": "chandrasekhar gundluru",
      "photoUrl": "",
      "userId": "17474775707066409645"
     },
     "user_tz": -330
    },
    "id": "H_6V8P-sFOLo",
    "outputId": "473c87d5-caf8-49e4-e05e-9208fe3226ea"
   },
   "outputs": [
    {
     "name": "stdout",
     "output_type": "stream",
     "text": [
      "ROUGE-1: 0.401, ROUGE-2: 0.173, ROUGE-L: 0.367\n"
     ]
    }
   ],
   "source": [
    "path='cnn_data'\n",
    "Metric_score=fun2(path)"
   ]
  }
 ],
 "metadata": {
  "colab": {
   "authorship_tag": "ABX9TyNDe34PaP+3O7CjTziSBViK",
   "collapsed_sections": [],
   "name": "Final.ipynb",
   "provenance": []
  },
  "kernelspec": {
   "display_name": "Python 3",
   "language": "python",
   "name": "python3"
  },
  "language_info": {
   "codemirror_mode": {
    "name": "ipython",
    "version": 3
   },
   "file_extension": ".py",
   "mimetype": "text/x-python",
   "name": "python",
   "nbconvert_exporter": "python",
   "pygments_lexer": "ipython3",
   "version": "3.7.4"
  },
  "widgets": {
   "application/vnd.jupyter.widget-state+json": {
    "04c330ebdfa74f918174210d03501e24": {
     "model_module": "@jupyter-widgets/controls",
     "model_name": "ProgressStyleModel",
     "state": {
      "_model_module": "@jupyter-widgets/controls",
      "_model_module_version": "1.5.0",
      "_model_name": "ProgressStyleModel",
      "_view_count": null,
      "_view_module": "@jupyter-widgets/base",
      "_view_module_version": "1.2.0",
      "_view_name": "StyleView",
      "bar_color": null,
      "description_width": "initial"
     }
    },
    "1d7be220ab4f478fad46375ec3036ec4": {
     "model_module": "@jupyter-widgets/controls",
     "model_name": "HTMLModel",
     "state": {
      "_dom_classes": [],
      "_model_module": "@jupyter-widgets/controls",
      "_model_module_version": "1.5.0",
      "_model_name": "HTMLModel",
      "_view_count": null,
      "_view_module": "@jupyter-widgets/controls",
      "_view_module_version": "1.5.0",
      "_view_name": "HTMLView",
      "description": "",
      "description_tooltip": null,
      "layout": "IPY_MODEL_ef58084804634d21b31c3ce7e699e083",
      "placeholder": "​",
      "style": "IPY_MODEL_4e62e0e6bf634110b59e347174a649f6",
      "value": " 242M/242M [00:10&lt;00:00, 22.3MB/s]"
     }
    },
    "1edbfee9f1e14dc8b9f7307f54f3337e": {
     "model_module": "@jupyter-widgets/controls",
     "model_name": "HTMLModel",
     "state": {
      "_dom_classes": [],
      "_model_module": "@jupyter-widgets/controls",
      "_model_module_version": "1.5.0",
      "_model_name": "HTMLModel",
      "_view_count": null,
      "_view_module": "@jupyter-widgets/controls",
      "_view_module_version": "1.5.0",
      "_view_name": "HTMLView",
      "description": "",
      "description_tooltip": null,
      "layout": "IPY_MODEL_6081bec54fd8474d909a72d2c73defb2",
      "placeholder": "​",
      "style": "IPY_MODEL_601b7d19f97349a2a0e2226f9f323931",
      "value": " 792k/792k [00:15&lt;00:00, 49.9kB/s]"
     }
    },
    "28633db0eb8d4528a90015eb39407868": {
     "model_module": "@jupyter-widgets/base",
     "model_name": "LayoutModel",
     "state": {
      "_model_module": "@jupyter-widgets/base",
      "_model_module_version": "1.2.0",
      "_model_name": "LayoutModel",
      "_view_count": null,
      "_view_module": "@jupyter-widgets/base",
      "_view_module_version": "1.2.0",
      "_view_name": "LayoutView",
      "align_content": null,
      "align_items": null,
      "align_self": null,
      "border": null,
      "bottom": null,
      "display": null,
      "flex": null,
      "flex_flow": null,
      "grid_area": null,
      "grid_auto_columns": null,
      "grid_auto_flow": null,
      "grid_auto_rows": null,
      "grid_column": null,
      "grid_gap": null,
      "grid_row": null,
      "grid_template_areas": null,
      "grid_template_columns": null,
      "grid_template_rows": null,
      "height": null,
      "justify_content": null,
      "justify_items": null,
      "left": null,
      "margin": null,
      "max_height": null,
      "max_width": null,
      "min_height": null,
      "min_width": null,
      "object_fit": null,
      "object_position": null,
      "order": null,
      "overflow": null,
      "overflow_x": null,
      "overflow_y": null,
      "padding": null,
      "right": null,
      "top": null,
      "visibility": null,
      "width": null
     }
    },
    "3038aabe47044f54887ebb655e1029bb": {
     "model_module": "@jupyter-widgets/controls",
     "model_name": "ProgressStyleModel",
     "state": {
      "_model_module": "@jupyter-widgets/controls",
      "_model_module_version": "1.5.0",
      "_model_name": "ProgressStyleModel",
      "_view_count": null,
      "_view_module": "@jupyter-widgets/base",
      "_view_module_version": "1.2.0",
      "_view_name": "StyleView",
      "bar_color": null,
      "description_width": "initial"
     }
    },
    "4991781483254906bc10e30cff25683f": {
     "model_module": "@jupyter-widgets/controls",
     "model_name": "FloatProgressModel",
     "state": {
      "_dom_classes": [],
      "_model_module": "@jupyter-widgets/controls",
      "_model_module_version": "1.5.0",
      "_model_name": "FloatProgressModel",
      "_view_count": null,
      "_view_module": "@jupyter-widgets/controls",
      "_view_module_version": "1.5.0",
      "_view_name": "ProgressView",
      "bar_style": "success",
      "description": "Downloading: 100%",
      "description_tooltip": null,
      "layout": "IPY_MODEL_63c94284080c49fcb9b450a7e93885f1",
      "max": 791656,
      "min": 0,
      "orientation": "horizontal",
      "style": "IPY_MODEL_04c330ebdfa74f918174210d03501e24",
      "value": 791656
     }
    },
    "4a89639fa1604b32b46ad6609bdbf636": {
     "model_module": "@jupyter-widgets/controls",
     "model_name": "FloatProgressModel",
     "state": {
      "_dom_classes": [],
      "_model_module": "@jupyter-widgets/controls",
      "_model_module_version": "1.5.0",
      "_model_name": "FloatProgressModel",
      "_view_count": null,
      "_view_module": "@jupyter-widgets/controls",
      "_view_module_version": "1.5.0",
      "_view_name": "ProgressView",
      "bar_style": "success",
      "description": "Downloading: 100%",
      "description_tooltip": null,
      "layout": "IPY_MODEL_c90cf919394e44c996f0da26ee5f187f",
      "max": 1197,
      "min": 0,
      "orientation": "horizontal",
      "style": "IPY_MODEL_979e39ac16ad4af4b0b2cee2fd3216a0",
      "value": 1197
     }
    },
    "4e62e0e6bf634110b59e347174a649f6": {
     "model_module": "@jupyter-widgets/controls",
     "model_name": "DescriptionStyleModel",
     "state": {
      "_model_module": "@jupyter-widgets/controls",
      "_model_module_version": "1.5.0",
      "_model_name": "DescriptionStyleModel",
      "_view_count": null,
      "_view_module": "@jupyter-widgets/base",
      "_view_module_version": "1.2.0",
      "_view_name": "StyleView",
      "description_width": ""
     }
    },
    "4faf41b72be54fc6a04c6bde80de8981": {
     "model_module": "@jupyter-widgets/base",
     "model_name": "LayoutModel",
     "state": {
      "_model_module": "@jupyter-widgets/base",
      "_model_module_version": "1.2.0",
      "_model_name": "LayoutModel",
      "_view_count": null,
      "_view_module": "@jupyter-widgets/base",
      "_view_module_version": "1.2.0",
      "_view_name": "LayoutView",
      "align_content": null,
      "align_items": null,
      "align_self": null,
      "border": null,
      "bottom": null,
      "display": null,
      "flex": null,
      "flex_flow": null,
      "grid_area": null,
      "grid_auto_columns": null,
      "grid_auto_flow": null,
      "grid_auto_rows": null,
      "grid_column": null,
      "grid_gap": null,
      "grid_row": null,
      "grid_template_areas": null,
      "grid_template_columns": null,
      "grid_template_rows": null,
      "height": null,
      "justify_content": null,
      "justify_items": null,
      "left": null,
      "margin": null,
      "max_height": null,
      "max_width": null,
      "min_height": null,
      "min_width": null,
      "object_fit": null,
      "object_position": null,
      "order": null,
      "overflow": null,
      "overflow_x": null,
      "overflow_y": null,
      "padding": null,
      "right": null,
      "top": null,
      "visibility": null,
      "width": null
     }
    },
    "5d8fc0cb5e3c4ae28ee4f4e09ab74b1a": {
     "model_module": "@jupyter-widgets/controls",
     "model_name": "HBoxModel",
     "state": {
      "_dom_classes": [],
      "_model_module": "@jupyter-widgets/controls",
      "_model_module_version": "1.5.0",
      "_model_name": "HBoxModel",
      "_view_count": null,
      "_view_module": "@jupyter-widgets/controls",
      "_view_module_version": "1.5.0",
      "_view_name": "HBoxView",
      "box_style": "",
      "children": [
       "IPY_MODEL_4a89639fa1604b32b46ad6609bdbf636",
       "IPY_MODEL_7b3fc31a4b40475b88fa745ae8621760"
      ],
      "layout": "IPY_MODEL_bd986fd992f240ad950588bc525e597a"
     }
    },
    "5ed2f7a4b1a546bca40c771f9b390d26": {
     "model_module": "@jupyter-widgets/base",
     "model_name": "LayoutModel",
     "state": {
      "_model_module": "@jupyter-widgets/base",
      "_model_module_version": "1.2.0",
      "_model_name": "LayoutModel",
      "_view_count": null,
      "_view_module": "@jupyter-widgets/base",
      "_view_module_version": "1.2.0",
      "_view_name": "LayoutView",
      "align_content": null,
      "align_items": null,
      "align_self": null,
      "border": null,
      "bottom": null,
      "display": null,
      "flex": null,
      "flex_flow": null,
      "grid_area": null,
      "grid_auto_columns": null,
      "grid_auto_flow": null,
      "grid_auto_rows": null,
      "grid_column": null,
      "grid_gap": null,
      "grid_row": null,
      "grid_template_areas": null,
      "grid_template_columns": null,
      "grid_template_rows": null,
      "height": null,
      "justify_content": null,
      "justify_items": null,
      "left": null,
      "margin": null,
      "max_height": null,
      "max_width": null,
      "min_height": null,
      "min_width": null,
      "object_fit": null,
      "object_position": null,
      "order": null,
      "overflow": null,
      "overflow_x": null,
      "overflow_y": null,
      "padding": null,
      "right": null,
      "top": null,
      "visibility": null,
      "width": null
     }
    },
    "601b7d19f97349a2a0e2226f9f323931": {
     "model_module": "@jupyter-widgets/controls",
     "model_name": "DescriptionStyleModel",
     "state": {
      "_model_module": "@jupyter-widgets/controls",
      "_model_module_version": "1.5.0",
      "_model_name": "DescriptionStyleModel",
      "_view_count": null,
      "_view_module": "@jupyter-widgets/base",
      "_view_module_version": "1.2.0",
      "_view_name": "StyleView",
      "description_width": ""
     }
    },
    "6081bec54fd8474d909a72d2c73defb2": {
     "model_module": "@jupyter-widgets/base",
     "model_name": "LayoutModel",
     "state": {
      "_model_module": "@jupyter-widgets/base",
      "_model_module_version": "1.2.0",
      "_model_name": "LayoutModel",
      "_view_count": null,
      "_view_module": "@jupyter-widgets/base",
      "_view_module_version": "1.2.0",
      "_view_name": "LayoutView",
      "align_content": null,
      "align_items": null,
      "align_self": null,
      "border": null,
      "bottom": null,
      "display": null,
      "flex": null,
      "flex_flow": null,
      "grid_area": null,
      "grid_auto_columns": null,
      "grid_auto_flow": null,
      "grid_auto_rows": null,
      "grid_column": null,
      "grid_gap": null,
      "grid_row": null,
      "grid_template_areas": null,
      "grid_template_columns": null,
      "grid_template_rows": null,
      "height": null,
      "justify_content": null,
      "justify_items": null,
      "left": null,
      "margin": null,
      "max_height": null,
      "max_width": null,
      "min_height": null,
      "min_width": null,
      "object_fit": null,
      "object_position": null,
      "order": null,
      "overflow": null,
      "overflow_x": null,
      "overflow_y": null,
      "padding": null,
      "right": null,
      "top": null,
      "visibility": null,
      "width": null
     }
    },
    "63c94284080c49fcb9b450a7e93885f1": {
     "model_module": "@jupyter-widgets/base",
     "model_name": "LayoutModel",
     "state": {
      "_model_module": "@jupyter-widgets/base",
      "_model_module_version": "1.2.0",
      "_model_name": "LayoutModel",
      "_view_count": null,
      "_view_module": "@jupyter-widgets/base",
      "_view_module_version": "1.2.0",
      "_view_name": "LayoutView",
      "align_content": null,
      "align_items": null,
      "align_self": null,
      "border": null,
      "bottom": null,
      "display": null,
      "flex": null,
      "flex_flow": null,
      "grid_area": null,
      "grid_auto_columns": null,
      "grid_auto_flow": null,
      "grid_auto_rows": null,
      "grid_column": null,
      "grid_gap": null,
      "grid_row": null,
      "grid_template_areas": null,
      "grid_template_columns": null,
      "grid_template_rows": null,
      "height": null,
      "justify_content": null,
      "justify_items": null,
      "left": null,
      "margin": null,
      "max_height": null,
      "max_width": null,
      "min_height": null,
      "min_width": null,
      "object_fit": null,
      "object_position": null,
      "order": null,
      "overflow": null,
      "overflow_x": null,
      "overflow_y": null,
      "padding": null,
      "right": null,
      "top": null,
      "visibility": null,
      "width": null
     }
    },
    "7b3fc31a4b40475b88fa745ae8621760": {
     "model_module": "@jupyter-widgets/controls",
     "model_name": "HTMLModel",
     "state": {
      "_dom_classes": [],
      "_model_module": "@jupyter-widgets/controls",
      "_model_module_version": "1.5.0",
      "_model_name": "HTMLModel",
      "_view_count": null,
      "_view_module": "@jupyter-widgets/controls",
      "_view_module_version": "1.5.0",
      "_view_name": "HTMLView",
      "description": "",
      "description_tooltip": null,
      "layout": "IPY_MODEL_4faf41b72be54fc6a04c6bde80de8981",
      "placeholder": "​",
      "style": "IPY_MODEL_89bb9b780dd24eb289a01e679462a8af",
      "value": " 1.20k/1.20k [00:02&lt;00:00, 501B/s]"
     }
    },
    "7d921f5a8f824358997e13bb01ec412b": {
     "model_module": "@jupyter-widgets/controls",
     "model_name": "HBoxModel",
     "state": {
      "_dom_classes": [],
      "_model_module": "@jupyter-widgets/controls",
      "_model_module_version": "1.5.0",
      "_model_name": "HBoxModel",
      "_view_count": null,
      "_view_module": "@jupyter-widgets/controls",
      "_view_module_version": "1.5.0",
      "_view_name": "HBoxView",
      "box_style": "",
      "children": [
       "IPY_MODEL_4991781483254906bc10e30cff25683f",
       "IPY_MODEL_1edbfee9f1e14dc8b9f7307f54f3337e"
      ],
      "layout": "IPY_MODEL_28633db0eb8d4528a90015eb39407868"
     }
    },
    "89bb9b780dd24eb289a01e679462a8af": {
     "model_module": "@jupyter-widgets/controls",
     "model_name": "DescriptionStyleModel",
     "state": {
      "_model_module": "@jupyter-widgets/controls",
      "_model_module_version": "1.5.0",
      "_model_name": "DescriptionStyleModel",
      "_view_count": null,
      "_view_module": "@jupyter-widgets/base",
      "_view_module_version": "1.2.0",
      "_view_name": "StyleView",
      "description_width": ""
     }
    },
    "979e39ac16ad4af4b0b2cee2fd3216a0": {
     "model_module": "@jupyter-widgets/controls",
     "model_name": "ProgressStyleModel",
     "state": {
      "_model_module": "@jupyter-widgets/controls",
      "_model_module_version": "1.5.0",
      "_model_name": "ProgressStyleModel",
      "_view_count": null,
      "_view_module": "@jupyter-widgets/base",
      "_view_module_version": "1.2.0",
      "_view_name": "StyleView",
      "bar_color": null,
      "description_width": "initial"
     }
    },
    "aecf4063fe8046bfa336be789119e1a9": {
     "model_module": "@jupyter-widgets/controls",
     "model_name": "HBoxModel",
     "state": {
      "_dom_classes": [],
      "_model_module": "@jupyter-widgets/controls",
      "_model_module_version": "1.5.0",
      "_model_name": "HBoxModel",
      "_view_count": null,
      "_view_module": "@jupyter-widgets/controls",
      "_view_module_version": "1.5.0",
      "_view_name": "HBoxView",
      "box_style": "",
      "children": [
       "IPY_MODEL_fd2ec85740af469ca482871933884e75",
       "IPY_MODEL_1d7be220ab4f478fad46375ec3036ec4"
      ],
      "layout": "IPY_MODEL_5ed2f7a4b1a546bca40c771f9b390d26"
     }
    },
    "bd986fd992f240ad950588bc525e597a": {
     "model_module": "@jupyter-widgets/base",
     "model_name": "LayoutModel",
     "state": {
      "_model_module": "@jupyter-widgets/base",
      "_model_module_version": "1.2.0",
      "_model_name": "LayoutModel",
      "_view_count": null,
      "_view_module": "@jupyter-widgets/base",
      "_view_module_version": "1.2.0",
      "_view_name": "LayoutView",
      "align_content": null,
      "align_items": null,
      "align_self": null,
      "border": null,
      "bottom": null,
      "display": null,
      "flex": null,
      "flex_flow": null,
      "grid_area": null,
      "grid_auto_columns": null,
      "grid_auto_flow": null,
      "grid_auto_rows": null,
      "grid_column": null,
      "grid_gap": null,
      "grid_row": null,
      "grid_template_areas": null,
      "grid_template_columns": null,
      "grid_template_rows": null,
      "height": null,
      "justify_content": null,
      "justify_items": null,
      "left": null,
      "margin": null,
      "max_height": null,
      "max_width": null,
      "min_height": null,
      "min_width": null,
      "object_fit": null,
      "object_position": null,
      "order": null,
      "overflow": null,
      "overflow_x": null,
      "overflow_y": null,
      "padding": null,
      "right": null,
      "top": null,
      "visibility": null,
      "width": null
     }
    },
    "c90cf919394e44c996f0da26ee5f187f": {
     "model_module": "@jupyter-widgets/base",
     "model_name": "LayoutModel",
     "state": {
      "_model_module": "@jupyter-widgets/base",
      "_model_module_version": "1.2.0",
      "_model_name": "LayoutModel",
      "_view_count": null,
      "_view_module": "@jupyter-widgets/base",
      "_view_module_version": "1.2.0",
      "_view_name": "LayoutView",
      "align_content": null,
      "align_items": null,
      "align_self": null,
      "border": null,
      "bottom": null,
      "display": null,
      "flex": null,
      "flex_flow": null,
      "grid_area": null,
      "grid_auto_columns": null,
      "grid_auto_flow": null,
      "grid_auto_rows": null,
      "grid_column": null,
      "grid_gap": null,
      "grid_row": null,
      "grid_template_areas": null,
      "grid_template_columns": null,
      "grid_template_rows": null,
      "height": null,
      "justify_content": null,
      "justify_items": null,
      "left": null,
      "margin": null,
      "max_height": null,
      "max_width": null,
      "min_height": null,
      "min_width": null,
      "object_fit": null,
      "object_position": null,
      "order": null,
      "overflow": null,
      "overflow_x": null,
      "overflow_y": null,
      "padding": null,
      "right": null,
      "top": null,
      "visibility": null,
      "width": null
     }
    },
    "e3f87fe4a8954a3998d5b087081a212e": {
     "model_module": "@jupyter-widgets/base",
     "model_name": "LayoutModel",
     "state": {
      "_model_module": "@jupyter-widgets/base",
      "_model_module_version": "1.2.0",
      "_model_name": "LayoutModel",
      "_view_count": null,
      "_view_module": "@jupyter-widgets/base",
      "_view_module_version": "1.2.0",
      "_view_name": "LayoutView",
      "align_content": null,
      "align_items": null,
      "align_self": null,
      "border": null,
      "bottom": null,
      "display": null,
      "flex": null,
      "flex_flow": null,
      "grid_area": null,
      "grid_auto_columns": null,
      "grid_auto_flow": null,
      "grid_auto_rows": null,
      "grid_column": null,
      "grid_gap": null,
      "grid_row": null,
      "grid_template_areas": null,
      "grid_template_columns": null,
      "grid_template_rows": null,
      "height": null,
      "justify_content": null,
      "justify_items": null,
      "left": null,
      "margin": null,
      "max_height": null,
      "max_width": null,
      "min_height": null,
      "min_width": null,
      "object_fit": null,
      "object_position": null,
      "order": null,
      "overflow": null,
      "overflow_x": null,
      "overflow_y": null,
      "padding": null,
      "right": null,
      "top": null,
      "visibility": null,
      "width": null
     }
    },
    "ef58084804634d21b31c3ce7e699e083": {
     "model_module": "@jupyter-widgets/base",
     "model_name": "LayoutModel",
     "state": {
      "_model_module": "@jupyter-widgets/base",
      "_model_module_version": "1.2.0",
      "_model_name": "LayoutModel",
      "_view_count": null,
      "_view_module": "@jupyter-widgets/base",
      "_view_module_version": "1.2.0",
      "_view_name": "LayoutView",
      "align_content": null,
      "align_items": null,
      "align_self": null,
      "border": null,
      "bottom": null,
      "display": null,
      "flex": null,
      "flex_flow": null,
      "grid_area": null,
      "grid_auto_columns": null,
      "grid_auto_flow": null,
      "grid_auto_rows": null,
      "grid_column": null,
      "grid_gap": null,
      "grid_row": null,
      "grid_template_areas": null,
      "grid_template_columns": null,
      "grid_template_rows": null,
      "height": null,
      "justify_content": null,
      "justify_items": null,
      "left": null,
      "margin": null,
      "max_height": null,
      "max_width": null,
      "min_height": null,
      "min_width": null,
      "object_fit": null,
      "object_position": null,
      "order": null,
      "overflow": null,
      "overflow_x": null,
      "overflow_y": null,
      "padding": null,
      "right": null,
      "top": null,
      "visibility": null,
      "width": null
     }
    },
    "fd2ec85740af469ca482871933884e75": {
     "model_module": "@jupyter-widgets/controls",
     "model_name": "FloatProgressModel",
     "state": {
      "_dom_classes": [],
      "_model_module": "@jupyter-widgets/controls",
      "_model_module_version": "1.5.0",
      "_model_name": "FloatProgressModel",
      "_view_count": null,
      "_view_module": "@jupyter-widgets/controls",
      "_view_module_version": "1.5.0",
      "_view_name": "ProgressView",
      "bar_style": "success",
      "description": "Downloading: 100%",
      "description_tooltip": null,
      "layout": "IPY_MODEL_e3f87fe4a8954a3998d5b087081a212e",
      "max": 242303832,
      "min": 0,
      "orientation": "horizontal",
      "style": "IPY_MODEL_3038aabe47044f54887ebb655e1029bb",
      "value": 242303832
     }
    }
   }
  }
 },
 "nbformat": 4,
 "nbformat_minor": 1
}
