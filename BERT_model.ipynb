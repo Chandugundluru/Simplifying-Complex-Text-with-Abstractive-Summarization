{
 "cells": [
  {
   "cell_type": "code",
   "execution_count": null,
   "metadata": {
    "colab": {
     "base_uri": "https://localhost:8080/",
     "height": 69
    },
    "colab_type": "code",
    "executionInfo": {
     "elapsed": 1978,
     "status": "ok",
     "timestamp": 1595310188364,
     "user": {
      "displayName": "Chandu Gundluru",
      "photoUrl": "https://lh3.googleusercontent.com/a-/AOh14GidFgklOcDs2TYAm7XkdUvRzaF_0QWCktV_lCRUQg=s64",
      "userId": "06673751404601892249"
     },
     "user_tz": -330
    },
    "id": "_BlClA_wxLM5",
    "outputId": "99348970-4490-45e8-8ddb-b5f7a4d3828e"
   },
   "outputs": [
    {
     "name": "stdout",
     "output_type": "stream",
     "text": [
      "[nltk_data] Downloading package punkt to /root/nltk_data...\n",
      "[nltk_data]   Package punkt is already up-to-date!\n"
     ]
    },
    {
     "data": {
      "text/plain": [
       "True"
      ]
     },
     "execution_count": 49,
     "metadata": {
      "tags": []
     },
     "output_type": "execute_result"
    }
   ],
   "source": [
    "import math\n",
    "from PIL import Image, ImageDraw\n",
    "from PIL import ImagePath\n",
    "import pandas as pd\n",
    "import os\n",
    "from os import path\n",
    "from tqdm import tqdm\n",
    "import json\n",
    "import cv2\n",
    "import numpy as np\n",
    "import matplotlib.pyplot as plt\n",
    "import seaborn as sns\n",
    "import urllib\n",
    "import tensorflow as tf\n",
    "import random as rn\n",
    "np.random.seed(42)\n",
    "tf.random.set_seed(32)\n",
    "rn.seed(12)\n",
    "from sklearn.model_selection import train_test_split\n",
    "\n",
    "import nltk\n",
    "nltk.download('punkt')"
   ]
  },
  {
   "cell_type": "code",
   "execution_count": null,
   "metadata": {
    "colab": {
     "base_uri": "https://localhost:8080/",
     "height": 34
    },
    "colab_type": "code",
    "executionInfo": {
     "elapsed": 2299,
     "status": "ok",
     "timestamp": 1595310190632,
     "user": {
      "displayName": "Chandu Gundluru",
      "photoUrl": "https://lh3.googleusercontent.com/a-/AOh14GidFgklOcDs2TYAm7XkdUvRzaF_0QWCktV_lCRUQg=s64",
      "userId": "06673751404601892249"
     },
     "user_tz": -330
    },
    "id": "zsBmFwr4xXUd",
    "outputId": "6aeaf38b-8ec3-4341-ce2d-b40e11939545"
   },
   "outputs": [
    {
     "name": "stdout",
     "output_type": "stream",
     "text": [
      "Drive already mounted at /content/gdrive; to attempt to forcibly remount, call drive.mount(\"/content/gdrive\", force_remount=True).\n"
     ]
    }
   ],
   "source": [
    "from google.colab import drive\n",
    "drive.mount('/content/gdrive')"
   ]
  },
  {
   "cell_type": "code",
   "execution_count": null,
   "metadata": {
    "colab": {
     "base_uri": "https://localhost:8080/",
     "height": 34
    },
    "colab_type": "code",
    "executionInfo": {
     "elapsed": 1721,
     "status": "ok",
     "timestamp": 1595310191586,
     "user": {
      "displayName": "Chandu Gundluru",
      "photoUrl": "https://lh3.googleusercontent.com/a-/AOh14GidFgklOcDs2TYAm7XkdUvRzaF_0QWCktV_lCRUQg=s64",
      "userId": "06673751404601892249"
     },
     "user_tz": -330
    },
    "id": "FjFDW4kTeqrK",
    "outputId": "22640f32-2e7f-41af-e6a8-5bfc376b6b0f"
   },
   "outputs": [
    {
     "name": "stdout",
     "output_type": "stream",
     "text": [
      "/content/gdrive/My Drive\n"
     ]
    }
   ],
   "source": [
    "%cd /content/gdrive/My Drive"
   ]
  },
  {
   "cell_type": "markdown",
   "metadata": {
    "colab_type": "text",
    "id": "-d076qRC0ZwB"
   },
   "source": [
    "### LOADING DATA"
   ]
  },
  {
   "cell_type": "code",
   "execution_count": null,
   "metadata": {
    "colab": {},
    "colab_type": "code",
    "id": "T626-hUxz3Pl"
   },
   "outputs": [],
   "source": [
    "data=pd.read_csv('/content/gdrive/My Drive/Bert/data_without_ent.csv')"
   ]
  },
  {
   "cell_type": "code",
   "execution_count": null,
   "metadata": {
    "colab": {},
    "colab_type": "code",
    "id": "WF2cfVBOCXib"
   },
   "outputs": [],
   "source": [
    "for i in range(100):\n",
    "    os.mkdir('/content/gdrive/My Drive/Bert/PreSumm/src/bert_data/cnndm'+'/'+str(i))\n",
    "\n",
    "d_path = '/content/gdrive/My Drive/Bert/PreSumm/src/bert_data/cnndm'\n",
    "\n",
    "for i in range(100):\n",
    "    with open(os.path.join(d_path, str(i)+'/'+'clean_text.txt'), 'w') as f:\n",
    "        f.write('%s\\n' % data.text.values[i])"
   ]
  },
  {
   "cell_type": "markdown",
   "metadata": {
    "colab_type": "text",
    "id": "t7XkMW7p0eUZ"
   },
   "source": [
    "### Git repo"
   ]
  },
  {
   "cell_type": "code",
   "execution_count": null,
   "metadata": {
    "colab": {},
    "colab_type": "code",
    "id": "JgDwYrCk0tW8"
   },
   "outputs": [],
   "source": [
    "!git clone https://github.com/mingchen62/PreSumm.git"
   ]
  },
  {
   "cell_type": "markdown",
   "metadata": {
    "colab_type": "text",
    "id": "zIAgVY241AB9"
   },
   "source": [
    "### Downloading pretrained model on cnn/dailymail for abstractive summarization"
   ]
  },
  {
   "cell_type": "code",
   "execution_count": null,
   "metadata": {
    "colab": {},
    "colab_type": "code",
    "id": "tVcdJJCQ0u5e"
   },
   "outputs": [],
   "source": [
    "! gdown https://drive.google.com/uc?id=1-IKVCtc4Q-BdZpjXc4s70_fRsWnjtYLr&export=download #CNN/DM Abstractive model_step_148000.pt \n",
    "\n",
    "\n",
    "! mkdir PreSumm/src/models/CNN_DailyMail_Abstractive\n",
    "\n",
    "! mv model_step_148000.pt PreSumm/src/models/CNN_DailyMail_Abstractive  "
   ]
  },
  {
   "cell_type": "code",
   "execution_count": null,
   "metadata": {
    "colab": {
     "base_uri": "https://localhost:8080/",
     "height": 485
    },
    "colab_type": "code",
    "executionInfo": {
     "elapsed": 15374,
     "status": "ok",
     "timestamp": 1595309321833,
     "user": {
      "displayName": "Chandu Gundluru",
      "photoUrl": "https://lh3.googleusercontent.com/a-/AOh14GidFgklOcDs2TYAm7XkdUvRzaF_0QWCktV_lCRUQg=s64",
      "userId": "06673751404601892249"
     },
     "user_tz": -330
    },
    "id": "Fvy8SpPr2Ay7",
    "outputId": "38f53a28-a891-4249-a671-1d994ad44888"
   },
   "outputs": [
    {
     "name": "stdout",
     "output_type": "stream",
     "text": [
      "Requirement already satisfied: pytorch_transformers in /usr/local/lib/python3.6/dist-packages (1.2.0)\n",
      "Requirement already satisfied: sacremoses in /usr/local/lib/python3.6/dist-packages (from pytorch_transformers) (0.0.43)\n",
      "Requirement already satisfied: requests in /usr/local/lib/python3.6/dist-packages (from pytorch_transformers) (2.23.0)\n",
      "Requirement already satisfied: numpy in /usr/local/lib/python3.6/dist-packages (from pytorch_transformers) (1.18.5)\n",
      "Requirement already satisfied: regex in /usr/local/lib/python3.6/dist-packages (from pytorch_transformers) (2019.12.20)\n",
      "Requirement already satisfied: tqdm in /usr/local/lib/python3.6/dist-packages (from pytorch_transformers) (4.41.1)\n",
      "Requirement already satisfied: torch>=1.0.0 in /usr/local/lib/python3.6/dist-packages (from pytorch_transformers) (1.1.0)\n",
      "Requirement already satisfied: sentencepiece in /usr/local/lib/python3.6/dist-packages (from pytorch_transformers) (0.1.91)\n",
      "Requirement already satisfied: boto3 in /usr/local/lib/python3.6/dist-packages (from pytorch_transformers) (1.14.20)\n",
      "Requirement already satisfied: joblib in /usr/local/lib/python3.6/dist-packages (from sacremoses->pytorch_transformers) (0.16.0)\n",
      "Requirement already satisfied: click in /usr/local/lib/python3.6/dist-packages (from sacremoses->pytorch_transformers) (7.1.2)\n",
      "Requirement already satisfied: six in /usr/local/lib/python3.6/dist-packages (from sacremoses->pytorch_transformers) (1.12.0)\n",
      "Requirement already satisfied: idna<3,>=2.5 in /usr/local/lib/python3.6/dist-packages (from requests->pytorch_transformers) (2.10)\n",
      "Requirement already satisfied: chardet<4,>=3.0.2 in /usr/local/lib/python3.6/dist-packages (from requests->pytorch_transformers) (3.0.4)\n",
      "Requirement already satisfied: certifi>=2017.4.17 in /usr/local/lib/python3.6/dist-packages (from requests->pytorch_transformers) (2020.6.20)\n",
      "Requirement already satisfied: urllib3!=1.25.0,!=1.25.1,<1.26,>=1.21.1 in /usr/local/lib/python3.6/dist-packages (from requests->pytorch_transformers) (1.24.3)\n",
      "Requirement already satisfied: jmespath<1.0.0,>=0.7.1 in /usr/local/lib/python3.6/dist-packages (from boto3->pytorch_transformers) (0.10.0)\n",
      "Requirement already satisfied: s3transfer<0.4.0,>=0.3.0 in /usr/local/lib/python3.6/dist-packages (from boto3->pytorch_transformers) (0.3.3)\n",
      "Requirement already satisfied: botocore<1.18.0,>=1.17.20 in /usr/local/lib/python3.6/dist-packages (from boto3->pytorch_transformers) (1.17.20)\n",
      "Requirement already satisfied: docutils<0.16,>=0.10 in /usr/local/lib/python3.6/dist-packages (from botocore<1.18.0,>=1.17.20->boto3->pytorch_transformers) (0.15.2)\n",
      "Requirement already satisfied: python-dateutil<3.0.0,>=2.1 in /usr/local/lib/python3.6/dist-packages (from botocore<1.18.0,>=1.17.20->boto3->pytorch_transformers) (2.8.1)\n",
      "Requirement already satisfied: tensorboardX in /usr/local/lib/python3.6/dist-packages (2.1)\n",
      "Requirement already satisfied: protobuf>=3.8.0 in /usr/local/lib/python3.6/dist-packages (from tensorboardX) (3.12.2)\n",
      "Requirement already satisfied: numpy in /usr/local/lib/python3.6/dist-packages (from tensorboardX) (1.18.5)\n",
      "Requirement already satisfied: six in /usr/local/lib/python3.6/dist-packages (from tensorboardX) (1.12.0)\n",
      "Requirement already satisfied: setuptools in /usr/local/lib/python3.6/dist-packages (from protobuf>=3.8.0->tensorboardX) (49.1.0)\n",
      "Requirement already satisfied: pyrouge in /usr/local/lib/python3.6/dist-packages (0.1.3)\n"
     ]
    }
   ],
   "source": [
    "!pip install pytorch_transformers\n",
    "!pip install tensorboardX\n",
    "!pip install pyrouge"
   ]
  },
  {
   "cell_type": "code",
   "execution_count": null,
   "metadata": {
    "colab": {
     "base_uri": "https://localhost:8080/",
     "height": 34
    },
    "colab_type": "code",
    "executionInfo": {
     "elapsed": 1430,
     "status": "ok",
     "timestamp": 1595310202795,
     "user": {
      "displayName": "Chandu Gundluru",
      "photoUrl": "https://lh3.googleusercontent.com/a-/AOh14GidFgklOcDs2TYAm7XkdUvRzaF_0QWCktV_lCRUQg=s64",
      "userId": "06673751404601892249"
     },
     "user_tz": -330
    },
    "id": "vkoO0LDE3Wan",
    "outputId": "066c1646-75a3-468a-d94d-5aa1bee68be8"
   },
   "outputs": [
    {
     "name": "stdout",
     "output_type": "stream",
     "text": [
      "/content/gdrive/My Drive/Bert/PreSumm/src\n"
     ]
    }
   ],
   "source": [
    "%cd Bert/PreSumm/src"
   ]
  },
  {
   "cell_type": "markdown",
   "metadata": {
    "colab_type": "text",
    "id": "QZZrZED24SJY"
   },
   "source": [
    "### Modifiny paths in summarizer.py"
   ]
  },
  {
   "cell_type": "code",
   "execution_count": null,
   "metadata": {
    "colab": {
     "base_uri": "https://localhost:8080/",
     "height": 34
    },
    "colab_type": "code",
    "executionInfo": {
     "elapsed": 1417,
     "status": "ok",
     "timestamp": 1595309656902,
     "user": {
      "displayName": "Chandu Gundluru",
      "photoUrl": "https://lh3.googleusercontent.com/a-/AOh14GidFgklOcDs2TYAm7XkdUvRzaF_0QWCktV_lCRUQg=s64",
      "userId": "06673751404601892249"
     },
     "user_tz": -330
    },
    "id": "s3OSV6o-eH5S",
    "outputId": "d852e450-f48d-4e3e-a488-c6e9107907de"
   },
   "outputs": [
    {
     "name": "stdout",
     "output_type": "stream",
     "text": [
      "Overwriting summarizer.py\n"
     ]
    }
   ],
   "source": [
    "%%writefile summarizer.py\n",
    "#!/usr/bin/env python\n",
    "\n",
    "from __future__ import division\n",
    "import argparse\n",
    "import os\n",
    "from others.logging import init_logger\n",
    "from train_abstractive import validate_abs, train_abs, baseline, test_abs, test_text_abs, load_models_abs\n",
    "from train_extractive import train_ext, validate_ext, test_ext\n",
    "from prepro import data_builder\n",
    "import glob, os\n",
    "\n",
    "model_flags = ['hidden_size', 'ff_size', 'heads', 'emb_size', 'enc_layers', 'enc_hidden_size', 'enc_ff_size',\n",
    "               'dec_layers', 'dec_hidden_size', 'dec_ff_size', 'encoder', 'ff_actv', 'use_interval']\n",
    "\n",
    "\n",
    "def str2bool(v):\n",
    "    if v.lower() in ('yes', 'true', 't', 'y', '1'):\n",
    "        return True\n",
    "    elif v.lower() in ('no', 'false', 'f', 'n', '0'):\n",
    "        return False\n",
    "    else:\n",
    "        raise argparse.ArgumentTypeError('Boolean value expected.')\n",
    "\n",
    "\n",
    "\n",
    "def init_args():\n",
    "    parser = argparse.ArgumentParser()\n",
    "    parser.add_argument(\"-task\", default='abs', type=str, choices=['ext', 'abs'])\n",
    "    parser.add_argument(\"-encoder\", default='bert', type=str, choices=['bert', 'baseline'])\n",
    "    parser.add_argument(\"-mode\", default='test', type=str, choices=['train', 'validate', 'test'])\n",
    "    parser.add_argument(\"-bert_data_path\", default='../../bert_data_new/cnndm')\n",
    "    parser.add_argument(\"-model_path\", default='../../models/')\n",
    "    parser.add_argument(\"-result_path\", default='../../results/cnndm')\n",
    "    parser.add_argument(\"-temp_dir\", default='../../temp')\n",
    "\n",
    "    parser.add_argument(\"-batch_size\", default=140, type=int)\n",
    "    parser.add_argument(\"-test_batch_size\", default=200, type=int)\n",
    "\n",
    "    parser.add_argument(\"-max_pos\", default=800, type=int)\n",
    "    parser.add_argument(\"-use_interval\", type=str2bool, nargs='?',const=True,default=True)\n",
    "    parser.add_argument(\"-large\", type=str2bool, nargs='?',const=True,default=False)\n",
    "    parser.add_argument(\"-load_from_extractive\", default='', type=str)\n",
    "\n",
    "    parser.add_argument(\"-sep_optim\", type=str2bool, nargs='?',const=True,default=True)\n",
    "    parser.add_argument(\"-lr_bert\", default=2e-3, type=float)\n",
    "    parser.add_argument(\"-lr_dec\", default=2e-3, type=float)\n",
    "    parser.add_argument(\"-use_bert_emb\", type=str2bool, nargs='?',const=True,default=False)\n",
    "\n",
    "    parser.add_argument(\"-share_emb\", type=str2bool, nargs='?', const=True, default=False)\n",
    "    parser.add_argument(\"-finetune_bert\", type=str2bool, nargs='?', const=True, default=True)\n",
    "    parser.add_argument(\"-dec_dropout\", default=0.2, type=float)\n",
    "    parser.add_argument(\"-dec_layers\", default=6, type=int)\n",
    "    parser.add_argument(\"-dec_hidden_size\", default=768, type=int)\n",
    "    parser.add_argument(\"-dec_heads\", default=8, type=int)\n",
    "    parser.add_argument(\"-dec_ff_size\", default=2048, type=int)\n",
    "    parser.add_argument(\"-enc_hidden_size\", default=512, type=int)\n",
    "    parser.add_argument(\"-enc_ff_size\", default=512, type=int)\n",
    "    parser.add_argument(\"-enc_dropout\", default=0.2, type=float)\n",
    "    parser.add_argument(\"-enc_layers\", default=6, type=int)\n",
    "\n",
    "    # params for EXT\n",
    "    parser.add_argument(\"-ext_dropout\", default=0.2, type=float)\n",
    "    parser.add_argument(\"-ext_layers\", default=2, type=int)\n",
    "    parser.add_argument(\"-ext_hidden_size\", default=768, type=int)\n",
    "    parser.add_argument(\"-ext_heads\", default=8, type=int)\n",
    "    parser.add_argument(\"-ext_ff_size\", default=2048, type=int)\n",
    "\n",
    "    parser.add_argument(\"-label_smoothing\", default=0.1, type=float)\n",
    "    parser.add_argument(\"-generator_shard_size\", default=32, type=int)\n",
    "    parser.add_argument(\"-alpha\",  default=0.6, type=float)\n",
    "    parser.add_argument(\"-beam_size\", default=5, type=int)\n",
    "    parser.add_argument(\"-min_length\", default=15, type=int)\n",
    "    parser.add_argument(\"-max_length\", default=150, type=int)\n",
    "    parser.add_argument(\"-max_tgt_len\", default=140, type=int)\n",
    "\n",
    "    # params for preprocessing\n",
    "    parser.add_argument(\"-shard_size\", default=2000, type=int)\n",
    "    parser.add_argument('-min_src_nsents', default=3, type=int)\n",
    "    parser.add_argument('-max_src_nsents', default=100, type=int)\n",
    "    parser.add_argument('-min_src_ntokens_per_sent', default=5, type=int)\n",
    "    parser.add_argument('-max_src_ntokens_per_sent', default=200, type=int)\n",
    "    parser.add_argument('-min_tgt_ntokens', default=5, type=int)\n",
    "    parser.add_argument('-max_tgt_ntokens', default=500, type=int)\n",
    "    parser.add_argument(\"-lower\", type=str2bool, nargs='?',const=True,default=True)\n",
    "    parser.add_argument(\"-use_bert_basic_tokenizer\", type=str2bool, nargs='?',const=True,default=False)\n",
    "\n",
    " \n",
    "    parser.add_argument(\"-param_init\", default=0, type=float)\n",
    "    parser.add_argument(\"-param_init_glorot\", type=str2bool, nargs='?',const=True,default=True)\n",
    "    parser.add_argument(\"-optim\", default='adam', type=str)\n",
    "    parser.add_argument(\"-lr\", default=1, type=float)\n",
    "    parser.add_argument(\"-beta1\", default= 0.9, type=float)\n",
    "    parser.add_argument(\"-beta2\", default=0.999, type=float)\n",
    "    parser.add_argument(\"-warmup_steps\", default=8000, type=int)\n",
    "    parser.add_argument(\"-warmup_steps_bert\", default=8000, type=int)\n",
    "    parser.add_argument(\"-warmup_steps_dec\", default=8000, type=int)\n",
    "    parser.add_argument(\"-max_grad_norm\", default=0, type=float)\n",
    "\n",
    "    parser.add_argument(\"-save_checkpoint_steps\", default=5, type=int)\n",
    "    parser.add_argument(\"-accum_count\", default=1, type=int)\n",
    "    parser.add_argument(\"-report_every\", default=1, type=int)\n",
    "    parser.add_argument(\"-train_steps\", default=1000, type=int)\n",
    "    parser.add_argument(\"-recall_eval\", type=str2bool, nargs='?',const=True,default=False)\n",
    "\n",
    "\n",
    "    parser.add_argument('-visible_gpus', default='-1', type=str)\n",
    "    parser.add_argument('-gpu_ranks', default='0', type=str)\n",
    "    parser.add_argument('-log_file', default='../../logs/cnndm.log')\n",
    "    parser.add_argument('-seed', default=666, type=int)\n",
    "\n",
    "    parser.add_argument(\"-test_all\", type=str2bool, nargs='?',const=True,default=False)\n",
    "    parser.add_argument(\"-test_from\", default='')\n",
    "    parser.add_argument(\"-test_start_from\", default=-1, type=int)\n",
    "\n",
    "    parser.add_argument(\"-train_from\", default='')\n",
    "    parser.add_argument(\"-report_rouge\", type=str2bool, nargs='?',const=True,default=True)\n",
    "    parser.add_argument(\"-block_trigram\", type=str2bool, nargs='?', const=True, default=True)\n",
    "\n",
    "    args = parser.parse_args()\n",
    "    args.gpu_ranks = [int(i) for i in range(len(args.visible_gpus.split(',')))]\n",
    "    args.world_size = len(args.gpu_ranks)\n",
    "    os.environ[\"CUDA_VISIBLE_DEVICES\"] = args.visible_gpus\n",
    "\n",
    "    init_logger(args.log_file)\n",
    "    device = \"cpu\" if args.visible_gpus == '-1' else \"cuda\"\n",
    "    device_id = 0 if device == \"cuda\" else -1\n",
    "\n",
    "    return args, device_id\n",
    "\n",
    "if __name__ == '__main__':\n",
    "    args, device_id = init_args()\n",
    "    print(args.task, args.mode) \n",
    "\n",
    "    cp = args.test_from\n",
    "    try:\n",
    "    \tstep = int(cp.split('.')[-2].split('_')[-1])\n",
    "    except:\n",
    "    \tstep = 0\n",
    "\n",
    "    predictor = load_models_abs(args, device_id, cp, step)\n",
    "\n",
    "    all_files = glob.glob(os.path.join('/content/gdrive/My Drive/Bert/PreSumm/src/bert_data/cnndm', '*'))\n",
    "    print('Files In Input Dir: ' + str(len(all_files)))\n",
    "    for file in all_files:\n",
    "        with open(file) as f:\n",
    "            source=f.read().rstrip()\n",
    "\n",
    "        data_builder.str_format_to_bert(  source, args, '/content/gdrive/My Drive/Bert/PreSumm/src/bert_data_test/cnndm.test.0.bert.pt') \n",
    "        args.bert_data_path= '/content/gdrive/My Drive/Bert/PreSumm/src/bert_data_test/cnndm'\n",
    "        test_text_abs(args, device_id, cp, step, predictor)\n"
   ]
  },
  {
   "cell_type": "code",
   "execution_count": null,
   "metadata": {
    "colab": {},
    "colab_type": "code",
    "id": "72UqO4eroRSO"
   },
   "outputs": [],
   "source": [
    " # datoteka koja se koristi kao ulazni podatak\n",
    "log_file=r'/content/gdrive/My\\ Drive/Bert/PreSumm/src/logs/val_abs_bert_cnndm'\n",
    "model_path=r'/content/gdrive/My\\ Drive/Bert/PreSumm/src/models/CNN_DailyMail_Abstractive/model_step_148000.pt' \n",
    "result_path=r'/content/gdrive/My\\ Drive/Bert/PreSumm/src/results/bertextabs_result'"
   ]
  },
  {
   "cell_type": "code",
   "execution_count": null,
   "metadata": {
    "colab": {
     "base_uri": "https://localhost:8080/",
     "height": 678
    },
    "colab_type": "code",
    "executionInfo": {
     "elapsed": 32818,
     "status": "ok",
     "timestamp": 1595310241553,
     "user": {
      "displayName": "Chandu Gundluru",
      "photoUrl": "https://lh3.googleusercontent.com/a-/AOh14GidFgklOcDs2TYAm7XkdUvRzaF_0QWCktV_lCRUQg=s64",
      "userId": "06673751404601892249"
     },
     "user_tz": -330
    },
    "id": "0YDznExugQvP",
    "outputId": "335a196f-74a7-4e5e-ffa0-ea7c2ee751ce"
   },
   "outputs": [
    {
     "name": "stdout",
     "output_type": "stream",
     "text": [
      "abs test\n",
      "[2020-07-21 05:43:31,493 INFO] Loading checkpoint from models/CNN_DailyMail_Abstractive/model_step_148000.pt\n",
      "Namespace(accum_count=1, alpha=0.95, batch_size=6, beam_size=5, bert_data_path='bert_data/cnndm', beta1=0.9, beta2=0.999, block_trigram=True, dec_dropout=0.2, dec_ff_size=2048, dec_heads=8, dec_hidden_size=768, dec_layers=6, enc_dropout=0.2, enc_ff_size=512, enc_hidden_size=512, enc_layers=6, encoder='bert', ext_dropout=0.2, ext_ff_size=2048, ext_heads=8, ext_hidden_size=768, ext_layers=2, finetune_bert=True, generator_shard_size=32, gpu_ranks=[0], label_smoothing=0.1, large=False, load_from_extractive='', log_file='/content/gdrive/My Drive/Bert/PreSumm/src/logs/val_abs_bert_cnndm', lower=True, lr=1, lr_bert=0.002, lr_dec=0.002, max_grad_norm=0, max_length=200, max_pos=512, max_src_nsents=100, max_src_ntokens_per_sent=200, max_tgt_len=140, max_tgt_ntokens=500, min_length=50, min_src_nsents=3, min_src_ntokens_per_sent=5, min_tgt_ntokens=5, mode='test', model_path='../../models/', optim='adam', param_init=0, param_init_glorot=True, recall_eval=False, report_every=1, report_rouge=False, result_path='/content/gdrive/My Drive/Bert/PreSumm/src/results/bertextabs_result', save_checkpoint_steps=5, seed=666, sep_optim=True, shard_size=2000, share_emb=False, task='abs', temp_dir='../../temp', test_all=False, test_batch_size=6, test_from='models/CNN_DailyMail_Abstractive/model_step_148000.pt', test_start_from=-1, train_from='', train_steps=1000, use_bert_basic_tokenizer=False, use_bert_emb=False, use_interval=True, visible_gpus='-1', warmup_steps=8000, warmup_steps_bert=8000, warmup_steps_dec=8000, world_size=1)\n",
      "[2020-07-21 05:43:36,371 INFO] loading configuration file https://s3.amazonaws.com/models.huggingface.co/bert/bert-base-uncased-config.json from cache at ../../temp/4dad0251492946e18ac39290fcfe91b89d370fee250efe9521476438fe8ca185.7156163d5fdc189c3016baca0775ffce230789d7fa2a42ef516483e4ca884517\n",
      "[2020-07-21 05:43:36,372 INFO] Model config {\n",
      "  \"architectures\": [\n",
      "    \"BertForMaskedLM\"\n",
      "  ],\n",
      "  \"attention_probs_dropout_prob\": 0.1,\n",
      "  \"finetuning_task\": null,\n",
      "  \"hidden_act\": \"gelu\",\n",
      "  \"hidden_dropout_prob\": 0.1,\n",
      "  \"hidden_size\": 768,\n",
      "  \"initializer_range\": 0.02,\n",
      "  \"intermediate_size\": 3072,\n",
      "  \"layer_norm_eps\": 1e-12,\n",
      "  \"max_position_embeddings\": 512,\n",
      "  \"model_type\": \"bert\",\n",
      "  \"num_attention_heads\": 12,\n",
      "  \"num_hidden_layers\": 12,\n",
      "  \"num_labels\": 2,\n",
      "  \"output_attentions\": false,\n",
      "  \"output_hidden_states\": false,\n",
      "  \"pad_token_id\": 0,\n",
      "  \"pruned_heads\": {},\n",
      "  \"torchscript\": false,\n",
      "  \"type_vocab_size\": 2,\n",
      "  \"vocab_size\": 30522\n",
      "}\n",
      "\n",
      "[2020-07-21 05:43:36,792 INFO] loading weights file https://s3.amazonaws.com/models.huggingface.co/bert/bert-base-uncased-pytorch_model.bin from cache at ../../temp/aa1ef1aede4482d0dbcd4d52baad8ae300e60902e88fcb0bebdec09afd232066.36ca03ab34a1a5d5fa7bc3d03d55c4fa650fed07220e2eeebc06ce58d0e9a157\n",
      "[2020-07-21 05:43:42,968 INFO] loading file https://s3.amazonaws.com/models.huggingface.co/bert/bert-base-uncased-vocab.txt from cache at ../../temp/26bc1ad6c0ac742e9b52263248f6d0f00068293b33709fae12320c0e35ccfbbb.542ce4285a40d23a559526243235df47c5f75c197f04f37d1a0c124c32c9a084\n",
      "Files In Input Dir: 1\n",
      "[2020-07-21 05:43:43,957 INFO] loading vocabulary file https://s3.amazonaws.com/models.huggingface.co/bert/bert-base-uncased-vocab.txt from cache at /root/.cache/torch/pytorch_transformers/26bc1ad6c0ac742e9b52263248f6d0f00068293b33709fae12320c0e35ccfbbb.542ce4285a40d23a559526243235df47c5f75c197f04f37d1a0c124c32c9a084\n",
      "[2020-07-21 05:43:44,008 INFO] Processing  an estimated 13,000 congolese civilians threatened by fierce fighting and gruesome attacks have fled to neighboring uganda over the past two days and more are expected , the united nations refugee agency said in a news release thursday . congolese anosiate nyirahabineza holds her son jeremiah in kampala , uganda , in june . the agency said the people fled from villages in the besieged province of north kivu , in the eastern democratic republic of congo , where fighting between rebels and government troops has prompted the displacement of 250,000 people since august . the staff of the u.n. high commissioner for refugees in the southwestern uganda town of ishasha said the people crossed into uganda from congo is rutshuru district . since august , about 27,000 civilians have escaped to uganda , which now hosts more than 150,000 refugees from countries in the region . the u.n. agency said the latest refugees are reporting many attacks and atrocities . it quoted a 25 year old named daudi , who said , the assailants killed everybody in my village . they took the young boys with them and killed all the rest of the population . it is a miracle that my wife and i managed to escape . he said one of his two children was separated from the family and it is not known where he is . another villager said rebels who attacked his village killed all the women , even pregnant women , the u.n. agency said .\n",
      "[2020-07-21 05:43:44,022 INFO] Saving to /content/gdrive/My Drive/Bert/PreSumm/src/bert_data_test/cnndm.test.0.bert.pt\n",
      "[2020-07-21 05:43:44,033 INFO] Loading test dataset from /content/gdrive/My Drive/Bert/PreSumm/src/bert_data_test/cnndm.test.0.bert.pt, number of examples: 1\n"
     ]
    }
   ],
   "source": [
    "!python summarizer.py -task abs -mode test \n",
    "    -test_from models/CNN_DailyMail_Abstractive/model_step_148000.pt \\\n",
    "    -batch_size 6 -test_batch_size 6 -bert_data_path bert_data/cnndm \\\n",
    "    -log_file $log_file -report_rouge False  \\\n",
    "    -sep_optim true -use_interval true \\\n",
    "    -visible_gpus -1 -max_pos 512 \\\n",
    "    -max_src_nsents 100 -max_length 200 \\ \n",
    "    -alpha 0.95 -min_length 50 \\\n",
    "    -result_path $result_path \\"
   ]
  },
  {
   "cell_type": "code",
   "execution_count": null,
   "metadata": {
    "colab": {},
    "colab_type": "code",
    "id": "W_OPzdaDrI8l"
   },
   "outputs": [],
   "source": [
    "summ_file = 'results/bertextabs_result.148000.candidate'\n",
    "summ_path = 'results'\n",
    "\n",
    "\n",
    "with open(summ_file, 'r') as f:\n",
    "    with open(os.path.join(summ_path, 'summary5.txt'), 'w') as g:\n",
    "        g.write(f.read())"
   ]
  },
  {
   "cell_type": "code",
   "execution_count": null,
   "metadata": {
    "colab": {},
    "colab_type": "code",
    "id": "vAb0R83cswt2"
   },
   "outputs": [],
   "source": [
    "filenames = []\n",
    "for i in range(1,6):\n",
    "    filenames.append('summary{}.txt'.format(i))"
   ]
  },
  {
   "cell_type": "code",
   "execution_count": null,
   "metadata": {
    "colab": {
     "base_uri": "https://localhost:8080/",
     "height": 470
    },
    "colab_type": "code",
    "executionInfo": {
     "elapsed": 1911,
     "status": "ok",
     "timestamp": 1595310243505,
     "user": {
      "displayName": "Chandu Gundluru",
      "photoUrl": "https://lh3.googleusercontent.com/a-/AOh14GidFgklOcDs2TYAm7XkdUvRzaF_0QWCktV_lCRUQg=s64",
      "userId": "06673751404601892249"
     },
     "user_tz": -330
    },
    "id": "Cf_m69Ersz-l",
    "outputId": "ed50ec48-23ac-4412-9b04-025c2d7f1ae8"
   },
   "outputs": [
    {
     "name": "stdout",
     "output_type": "stream",
     "text": [
      "BertSum Summary  # 1\n",
      "german tourist in critical condition after shark severed her right arm<q>she was taken to maui medical center for treatment<q>the attack took place about 50 yards offshore at white rock beach in maui<q>the beach has been closed one mile on either side of where the attack happened\n",
      "\n",
      "\n",
      "\n",
      "BertSum Summary  # 2\n",
      "the attack happened in the section of turkey is home to landmarks such as the hagia sophia and the blue mosque<q>the bomber , speaking english , entered the police station saying she lost her wallet , and the explosion happened at about 5 20 p.m.<q>later tuesday , one of the officers died of his wounds at a hospital\n",
      "\n",
      "\n",
      "\n",
      "BertSum Summary  # 3\n",
      "space shuttle discovery launches late friday from kennedy space center<q>crew includes one from mexico and another from sweden<q>astronaut timothy kopra will remain on the station as a flight engineer<q>nasa astronaut cady coleman said the treadmill is an essential addition to the space station\n",
      "\n",
      "\n",
      "\n",
      "BertSum Summary  # 4\n",
      "police say yaakov alperon was killed instantly when an explosive device was detonated by remote control on a busy street in tel aviv<q>the blast injured two other people , including a 13 year old boy<q>alperon is the latest casualty of ongoing mob wars that have left scores of innocent people dead\n",
      "\n",
      "\n",
      "\n",
      "BertSum Summary  # 5\n",
      "an estimated 13,000 congolese civilians have fled to neighboring uganda over the past two days<q>the united nations refugee agency said the people crossed into uganda from congo is rutshuru district<q>since august , about 27,000 civilians have escaped to uganda , which now hosts more than 150,000 refugees\n",
      "\n",
      "\n",
      "\n"
     ]
    }
   ],
   "source": [
    "summ_path = 'results'\n",
    "\n",
    "BertSum_summaries = []\n",
    "for i, file in enumerate(filenames):\n",
    "    with open(os.path.join(summ_path, file)) as f:\n",
    "        BertSum_summaries.append(f.read())\n",
    "\n",
    "    \n",
    "    print('BertSum Summary  # {}'.format(i+1))\n",
    "    print(BertSum_summaries[i])\n",
    "    print('\\n')\n",
    "    "
   ]
  }
 ],
 "metadata": {
  "accelerator": "GPU",
  "colab": {
   "authorship_tag": "ABX9TyPlE6On9EBeFSOo3c+LKjp4",
   "collapsed_sections": [],
   "name": "BERT_model.ipynb",
   "provenance": [
    {
     "file_id": "1689we8M_bJykfdzUVS5cpCNkR92vN1_U",
     "timestamp": 1595311051143
    }
   ]
  },
  "kernelspec": {
   "display_name": "Python 3",
   "language": "python",
   "name": "python3"
  },
  "language_info": {
   "codemirror_mode": {
    "name": "ipython",
    "version": 3
   },
   "file_extension": ".py",
   "mimetype": "text/x-python",
   "name": "python",
   "nbconvert_exporter": "python",
   "pygments_lexer": "ipython3",
   "version": "3.7.4"
  }
 },
 "nbformat": 4,
 "nbformat_minor": 1
}
