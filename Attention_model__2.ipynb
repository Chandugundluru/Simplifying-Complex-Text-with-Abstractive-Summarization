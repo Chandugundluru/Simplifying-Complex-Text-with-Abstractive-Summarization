{
 "cells": [
  {
   "cell_type": "code",
   "execution_count": 80,
   "metadata": {
    "colab": {},
    "colab_type": "code",
    "id": "oTFXut-RcHth"
   },
   "outputs": [],
   "source": [
    "from tqdm import tqdm\n",
    "import re\n",
    "import warnings\n",
    "import numpy as np\n",
    "warnings.filterwarnings(\"ignore\")\n",
    "import pandas as pd\n",
    "pd.set_option('display.max_colwidth', -1)\n",
    "from tensorflow.keras import backend as K \n",
    "from nltk.corpus import stopwords\n",
    "from tensorflow.keras.layers import Input, LSTM, Embedding, Dense,TimeDistributed,Add,Bidirectional,AdditiveAttention\n",
    "from tensorflow.keras.models import Model,load_model\n",
    "from tensorflow.keras.callbacks import EarlyStopping\n",
    "from keras.preprocessing.text import text_to_word_sequence\n",
    "import tensorflow as tf\n",
    "import random as rn\n",
    "np.random.seed(42)\n",
    "tf.random.set_seed(32)\n",
    "rn.seed(12)\n",
    "import spacy\n",
    "nlp = spacy.load('en_core_web_sm')"
   ]
  },
  {
   "cell_type": "code",
   "execution_count": 4,
   "metadata": {
    "colab": {
     "base_uri": "https://localhost:8080/",
     "height": 33
    },
    "colab_type": "code",
    "id": "w_BonFbWcZBz",
    "outputId": "ed1c96a3-8dae-44ef-e158-bc1a5cb33e92"
   },
   "outputs": [
    {
     "name": "stdout",
     "output_type": "stream",
     "text": [
      "Drive already mounted at /content/gdrive; to attempt to forcibly remount, call drive.mount(\"/content/gdrive\", force_remount=True).\n"
     ]
    }
   ],
   "source": [
    "from google.colab import drive\n",
    "drive.mount('/content/gdrive')"
   ]
  },
  {
   "cell_type": "code",
   "execution_count": 99,
   "metadata": {
    "colab": {},
    "colab_type": "code",
    "id": "Nf_px4vkSU4C"
   },
   "outputs": [],
   "source": [
    "post_pre=pd.read_csv('/content/gdrive/My Drive/data_with_ent.csv')"
   ]
  },
  {
   "cell_type": "code",
   "execution_count": 100,
   "metadata": {
    "colab": {},
    "colab_type": "code",
    "id": "OI4XoeLNh-Ia"
   },
   "outputs": [],
   "source": [
    "max_text_len = 330\n",
    "max_summary_len = 41"
   ]
  },
  {
   "cell_type": "code",
   "execution_count": 101,
   "metadata": {
    "colab": {},
    "colab_type": "code",
    "id": "BOjASdohi6L5"
   },
   "outputs": [],
   "source": [
    "from sklearn.model_selection import train_test_split\n",
    "x_train,x_validation,y_train,y_validatioin=train_test_split(np.array(post_pre['text']),np.array(post_pre['summary'])\n",
    "                                                            ,random_state=33,test_size=0.1)"
   ]
  },
  {
   "cell_type": "markdown",
   "metadata": {
    "colab_type": "text",
    "id": "NF0T6FzTqRtA"
   },
   "source": [
    "### Considering rare words as unk"
   ]
  },
  {
   "cell_type": "code",
   "execution_count": 8,
   "metadata": {
    "colab": {},
    "colab_type": "code",
    "id": "ONVo1DxwjOuZ"
   },
   "outputs": [],
   "source": [
    "from keras.preprocessing.text import Tokenizer \n",
    "from keras.preprocessing.sequence import pad_sequences\n",
    "\n",
    "x_tokenizer = Tokenizer() \n",
    "x_tokenizer.fit_on_texts(list(x_train))\n"
   ]
  },
  {
   "cell_type": "code",
   "execution_count": 9,
   "metadata": {
    "colab": {},
    "colab_type": "code",
    "id": "5MkrsaWCnQx5"
   },
   "outputs": [],
   "source": [
    "thresh=2\n",
    "rare_word=[]\n",
    "for key,value in x_tokenizer.word_counts.items():\n",
    "    if(value<thresh):\n",
    "        rare_word.append(key)"
   ]
  },
  {
   "cell_type": "code",
   "execution_count": 10,
   "metadata": {
    "colab": {
     "base_uri": "https://localhost:8080/",
     "height": 50
    },
    "colab_type": "code",
    "id": "dmqgi9CcnWls",
    "outputId": "a51206ae-be71-4998-e064-83de697115b1"
   },
   "outputs": [
    {
     "name": "stdout",
     "output_type": "stream",
     "text": [
      "13643\n"
     ]
    },
    {
     "data": {
      "text/plain": [
       "['madiba', 'inferno', 'aback', 'blossomed', 'hodgepodge']"
      ]
     },
     "execution_count": 10,
     "metadata": {
      "tags": []
     },
     "output_type": "execute_result"
    }
   ],
   "source": [
    "print(len(rare_word))\n",
    "rare_word[:5]"
   ]
  },
  {
   "cell_type": "code",
   "execution_count": 11,
   "metadata": {
    "colab": {},
    "colab_type": "code",
    "id": "D47f_5I_o5Fi"
   },
   "outputs": [],
   "source": [
    "tokenrare=[]\n",
    "for i in range(len(rare_word)):\n",
    "    tokenrare.append('ukn')"
   ]
  },
  {
   "cell_type": "code",
   "execution_count": 12,
   "metadata": {
    "colab": {},
    "colab_type": "code",
    "id": "h6ykDgdco7g6"
   },
   "outputs": [],
   "source": [
    "dictionary_1 = dict(zip(rare_word,tokenrare)) "
   ]
  },
  {
   "cell_type": "code",
   "execution_count": 13,
   "metadata": {
    "colab": {},
    "colab_type": "code",
    "id": "X2aF1svho7MU"
   },
   "outputs": [],
   "source": [
    "x_trunk=[]\n",
    "for i in x_train:\n",
    "    for word in i.split():\n",
    "        if word.lower() in dictionary_1:\n",
    "            i = i.replace(word, dictionary_1[word.lower()])\n",
    "    x_trunk.append(i)"
   ]
  },
  {
   "cell_type": "code",
   "execution_count": 14,
   "metadata": {
    "colab": {},
    "colab_type": "code",
    "id": "pOaB_Qw6pPyE"
   },
   "outputs": [],
   "source": [
    "x_tokenizer = Tokenizer(oov_token='ukn') \n",
    "x_tokenizer.fit_on_texts(list(x_trunk))"
   ]
  },
  {
   "cell_type": "markdown",
   "metadata": {
    "colab_type": "text",
    "id": "SokjvhKFoReq"
   },
   "source": [
    "### Padding the tokens"
   ]
  },
  {
   "cell_type": "code",
   "execution_count": 15,
   "metadata": {
    "colab": {},
    "colab_type": "code",
    "id": "2MbdFS5bnBZa"
   },
   "outputs": [],
   "source": [
    "\n",
    "# Convert text sequences into integer sequences (i.e one-hot encodeing all the words)\n",
    "x_tr_seq    =   x_tokenizer.texts_to_sequences(x_trunk) \n",
    "x_val_seq   =   x_tokenizer.texts_to_sequences(x_validation)\n",
    "\n",
    "# Padding zero upto maximum length\n",
    "x_tr    =   pad_sequences(x_tr_seq,  maxlen=max_text_len, padding='post')\n",
    "x_val   =   pad_sequences(x_val_seq, maxlen=max_text_len, padding='post')\n",
    "\n",
    "# Size of vocabulary ( +1 for padding token)\n",
    "x_voc   =  len(x_tokenizer.word_index) + 1"
   ]
  },
  {
   "cell_type": "code",
   "execution_count": 16,
   "metadata": {
    "colab": {
     "base_uri": "https://localhost:8080/",
     "height": 33
    },
    "colab_type": "code",
    "id": "ZyfMUhRdrEOM",
    "outputId": "a31bffb8-bd68-41e5-8864-83bc3f743b29"
   },
   "outputs": [
    {
     "data": {
      "text/plain": [
       "23062"
      ]
     },
     "execution_count": 16,
     "metadata": {
      "tags": []
     },
     "output_type": "execute_result"
    }
   ],
   "source": [
    "x_voc"
   ]
  },
  {
   "cell_type": "code",
   "execution_count": 17,
   "metadata": {
    "colab": {},
    "colab_type": "code",
    "id": "o-g4d6Paja4c"
   },
   "outputs": [],
   "source": [
    "from keras.preprocessing.text import Tokenizer \n",
    "from keras.preprocessing.sequence import pad_sequences\n",
    "y_tokenizer = Tokenizer() \n",
    "y_tokenizer.fit_on_texts(list(y_train))"
   ]
  },
  {
   "cell_type": "code",
   "execution_count": 18,
   "metadata": {
    "colab": {},
    "colab_type": "code",
    "id": "7LutW4j8VC6L"
   },
   "outputs": [],
   "source": [
    "thresh=2\n",
    "rare_word=[]\n",
    "for key,value in y_tokenizer.word_counts.items():\n",
    "    if(value<thresh):\n",
    "        rare_word.append(key)"
   ]
  },
  {
   "cell_type": "code",
   "execution_count": 19,
   "metadata": {
    "colab": {
     "base_uri": "https://localhost:8080/",
     "height": 50
    },
    "colab_type": "code",
    "id": "-CrAoTCQlRyi",
    "outputId": "68fb60f4-0ace-462a-b10d-a4d7279e6273"
   },
   "outputs": [
    {
     "name": "stdout",
     "output_type": "stream",
     "text": [
      "7814\n"
     ]
    },
    {
     "data": {
      "text/plain": [
       "['lace', 'mazola', 'unleashes', 'stylish', 'conde', 'cheat', 'hack']"
      ]
     },
     "execution_count": 19,
     "metadata": {
      "tags": []
     },
     "output_type": "execute_result"
    }
   ],
   "source": [
    "print(len(rare_word))\n",
    "rare_word[3:10]"
   ]
  },
  {
   "cell_type": "code",
   "execution_count": 20,
   "metadata": {
    "colab": {},
    "colab_type": "code",
    "id": "ih87v7anG7Pv"
   },
   "outputs": [],
   "source": [
    "tokenrare=[]\n",
    "for i in range(len(rare_word)):\n",
    "    tokenrare.append('ukn')"
   ]
  },
  {
   "cell_type": "code",
   "execution_count": 21,
   "metadata": {
    "colab": {},
    "colab_type": "code",
    "id": "JqPxITdTRSRI"
   },
   "outputs": [],
   "source": [
    "dictionary_1 = dict(zip(rare_word,tokenrare)) "
   ]
  },
  {
   "cell_type": "code",
   "execution_count": 22,
   "metadata": {
    "colab": {},
    "colab_type": "code",
    "id": "UX6asWzzR9qY"
   },
   "outputs": [],
   "source": [
    "y_trunk=[]\n",
    "for i in y_train:\n",
    "    for word in i.split():\n",
    "        if word.lower() in dictionary_1:\n",
    "            i = i.replace(word, dictionary_1[word.lower()])\n",
    "    y_trunk.append(i)"
   ]
  },
  {
   "cell_type": "code",
   "execution_count": 23,
   "metadata": {
    "colab": {
     "base_uri": "https://localhost:8080/",
     "height": 51
    },
    "colab_type": "code",
    "id": "BV4dajkQS9bH",
    "outputId": "e2697ce8-e85e-4cf1-d9b9-d0974b9dda9e"
   },
   "outputs": [
    {
     "data": {
      "application/vnd.google.colaboratory.intrinsic": {
       "type": "string"
      },
      "text/plain": [
       "'start haiti makeshift camps are starting to function like mini cities citizens are digging out their belongings and what they need out of the rubble everything from turquoise hand crocheted lace to mazola oil seen recently at camp cardinal end'"
      ]
     },
     "execution_count": 23,
     "metadata": {
      "tags": []
     },
     "output_type": "execute_result"
    }
   ],
   "source": [
    "y_train[3]"
   ]
  },
  {
   "cell_type": "code",
   "execution_count": 24,
   "metadata": {
    "colab": {
     "base_uri": "https://localhost:8080/",
     "height": 51
    },
    "colab_type": "code",
    "id": "vAYQkt9YS7Pp",
    "outputId": "c7373f08-6ce7-483d-a6ae-63f8ff053a9e"
   },
   "outputs": [
    {
     "data": {
      "application/vnd.google.colaboratory.intrinsic": {
       "type": "string"
      },
      "text/plain": [
       "'start haiti makeshift camps are starting to function like mini cities citizens are digging out their belongings and what they need out of the rubble everything from ukn hand ukn ukn to ukn oil seen recently at camp cardinal end'"
      ]
     },
     "execution_count": 24,
     "metadata": {
      "tags": []
     },
     "output_type": "execute_result"
    }
   ],
   "source": [
    "y_trunk[3]"
   ]
  },
  {
   "cell_type": "code",
   "execution_count": 25,
   "metadata": {
    "colab": {},
    "colab_type": "code",
    "id": "hU-5ezxIQbH9"
   },
   "outputs": [],
   "source": [
    "y_tokenizer = Tokenizer(oov_token='ukn') \n",
    "y_tokenizer.fit_on_texts(list(y_trunk))\n",
    "\n",
    "# Convert text sequences into integer sequences (i.e one hot encode the text in Y)\n",
    "y_tr_seq    =   y_tokenizer.texts_to_sequences(y_trunk) \n",
    "y_val_seq   =   y_tokenizer.texts_to_sequences(y_validatioin) \n",
    "\n",
    "# Padding zero upto maximum length\n",
    "y_tr    =   pad_sequences(y_tr_seq, maxlen=max_summary_len, padding='post')\n",
    "y_val   =   pad_sequences(y_val_seq, maxlen=max_summary_len, padding='post')\n",
    "\n",
    "# Size of vocabulary\n",
    "y_voc  =   len(y_tokenizer.word_index) +1"
   ]
  },
  {
   "cell_type": "code",
   "execution_count": 26,
   "metadata": {
    "colab": {
     "base_uri": "https://localhost:8080/",
     "height": 33
    },
    "colab_type": "code",
    "id": "DVnhvGMNUGhw",
    "outputId": "d466113b-deb2-40be-a1de-8ccb62ec3031"
   },
   "outputs": [
    {
     "data": {
      "text/plain": [
       "9480"
      ]
     },
     "execution_count": 26,
     "metadata": {
      "tags": []
     },
     "output_type": "execute_result"
    }
   ],
   "source": [
    "y_voc"
   ]
  },
  {
   "cell_type": "markdown",
   "metadata": {
    "colab_type": "text",
    "id": "NU05WfVVoRfT"
   },
   "source": [
    "## Loading pretrained glove vectors"
   ]
  },
  {
   "cell_type": "code",
   "execution_count": 27,
   "metadata": {
    "colab": {},
    "colab_type": "code",
    "id": "koqmNIX0P2K7"
   },
   "outputs": [],
   "source": [
    "embeddings_dictionary = dict()\n",
    "glove_file = open(\"/content/gdrive/My Drive/glove.6B.50d.txt\", encoding=\"utf8\")\n",
    "\n",
    "for line in glove_file:\n",
    "    records = line.split()\n",
    "    word = records[0]\n",
    "    vector_dimensions = np.asarray(records[1:], dtype='float32')\n",
    "    embeddings_dictionary [word] = vector_dimensions\n",
    "glove_file.close()"
   ]
  },
  {
   "cell_type": "code",
   "execution_count": 28,
   "metadata": {
    "colab": {
     "base_uri": "https://localhost:8080/",
     "height": 33
    },
    "colab_type": "code",
    "id": "IbjTloV-P-L7",
    "outputId": "d08e0434-8b9a-4440-9e6a-7beae0898ad8"
   },
   "outputs": [
    {
     "data": {
      "text/plain": [
       "(23063, 50)"
      ]
     },
     "execution_count": 28,
     "metadata": {
      "tags": []
     },
     "output_type": "execute_result"
    }
   ],
   "source": [
    "#Updating the dictionary with the pre-trained GloVe embeddings.\n",
    "embedding_matrix_x = np.zeros((x_voc+1 , 50))\n",
    "for word, index in x_tokenizer.word_index.items():\n",
    "    embedding_vector = embeddings_dictionary.get(word)\n",
    "    if embedding_vector is not None:\n",
    "        embedding_matrix_x[index] = embedding_vector\n",
    "embedding_matrix_x.shape"
   ]
  },
  {
   "cell_type": "code",
   "execution_count": 29,
   "metadata": {
    "colab": {
     "base_uri": "https://localhost:8080/",
     "height": 33
    },
    "colab_type": "code",
    "id": "bcMBbFPfQAd1",
    "outputId": "88e70448-1d8b-456d-ee01-10e41736c6bc"
   },
   "outputs": [
    {
     "data": {
      "text/plain": [
       "(9481, 50)"
      ]
     },
     "execution_count": 29,
     "metadata": {
      "tags": []
     },
     "output_type": "execute_result"
    }
   ],
   "source": [
    "embedding_matrix_y = np.zeros((y_voc+1, 50))\n",
    "\n",
    "for word, index in y_tokenizer.word_index.items():\n",
    "    embedding_vector = embeddings_dictionary.get(word)\n",
    "    if embedding_vector is not None:\n",
    "        embedding_matrix_y[index] = embedding_vector\n",
    "embedding_matrix_y.shape"
   ]
  },
  {
   "cell_type": "markdown",
   "metadata": {
    "colab_type": "text",
    "id": "4A-j90MicnEQ"
   },
   "source": [
    "### Attention layer\n",
    "\n"
   ]
  },
  {
   "cell_type": "code",
   "execution_count": 82,
   "metadata": {
    "colab": {},
    "colab_type": "code",
    "id": "Rj7kEHEldWQq"
   },
   "outputs": [],
   "source": [
    "import tensorflow as tf\n",
    "\n",
    "K.clear_session()"
   ]
  },
  {
   "cell_type": "code",
   "execution_count": 83,
   "metadata": {
    "colab": {},
    "colab_type": "code",
    "id": "qUicx-iRctj_"
   },
   "outputs": [],
   "source": [
    "#Encoder class\n",
    "class Encoder(tf.keras.layers.Layer):\n",
    "    def __init__(self, vocab_size, embedding_dim,embedding_matrix_x,enc_units,**kwargs):\n",
    "        super(Encoder,self).__init__(**kwargs)\n",
    "        self.vocab_size = vocab_size\n",
    "        self.embedding_dim = embedding_dim\n",
    "        self.enc_units = enc_units\n",
    "        self.embedding = Embedding(input_dim=self.vocab_size, output_dim=self.embedding_dim,weights=[embedding_matrix_x],\n",
    "                                   mask_zero=True,name='Encoder_Embedding_layer',trainable=True)\n",
    "        self.lstm =  Bidirectional(LSTM(self.enc_units,return_sequences=True,return_state=True,name='Encoder_LSTM',dropout=0.2,recurrent_dropout=0.2))\n",
    "\n",
    "     \n",
    "    @tf.function\n",
    "    def call(self, x):\n",
    "        x = self.embedding(x)\n",
    "        #state_h = Hidden state output of last time step (Output of last time step)\n",
    "        #state_c = Cell state output of last time step\n",
    "        lstm_out, forward_h, forward_c, backward_h, backward_c  = self.lstm(x)\n",
    "        state_h = Concatenate()([forward_h, backward_h])\n",
    "        state_c = Concatenate()([forward_c, backward_c])\n",
    "\n",
    "        return lstm_out, state_h, state_c"
   ]
  },
  {
   "cell_type": "code",
   "execution_count": 84,
   "metadata": {
    "colab": {},
    "colab_type": "code",
    "id": "4OUf0DPxdUiu"
   },
   "outputs": [],
   "source": [
    "\n",
    "class additiveAttention(tf.keras.layers.AdditiveAttention):\n",
    "    def __init__(self,units):\n",
    "        super(additiveAttention,self).__init__()\n",
    "        self.units = units\n",
    "        self.W1 = Dense(units)\n",
    "        self.W2 = Dense(units)\n",
    "        self.V = Dense(1) \n",
    "\n",
    "    @tf.function  \n",
    "    def call(self, keys):\n",
    "        \n",
    "        query=keys[0]\n",
    "\n",
    "        values=keys[1]\n",
    "\n",
    "        ht_with_time_axis = tf.expand_dims(values, axis=1)\n",
    "\n",
    "        score = self.V(tf.nn.tanh(self.W1(ht_with_time_axis) + self.W2(query)))\n",
    "\n",
    "        attention_weights = tf.nn.softmax(score, axis=1)\n",
    "        \n",
    "        \n",
    "        context_vector = attention_weights * query\n",
    "        context_vector = tf.reduce_sum(context_vector, axis=1)\n",
    "\n",
    "        return context_vector, attention_weights"
   ]
  },
  {
   "cell_type": "code",
   "execution_count": 85,
   "metadata": {
    "colab": {},
    "colab_type": "code",
    "id": "bgeAdF72dedy"
   },
   "outputs": [],
   "source": [
    "class OneStepDecoder(tf.keras.layers.Layer):\n",
    "    def __init__(self, vocab_size, embedding_dim,embedding_matrix_y,dec_units,att_units):\n",
    "        super(OneStepDecoder, self).__init__()\n",
    "        self.attention = additiveAttention(units=att_units)\n",
    "        self.embedding = Embedding(input_dim=vocab_size, output_dim=embedding_dim,weights=[embedding_matrix_y],mask_zero=True,\n",
    "                                   name='Decoder_Embedding_layer',trainable=True)\n",
    "        self.lstm = LSTM(dec_units,return_sequences=False,return_state=True,name='Decoder_LSTM')\n",
    "        self.fc = Dense(vocab_size)\n",
    "\n",
    "    @tf.function  \n",
    "    def call(self, x, hidden, cell, enc_output):\n",
    "        #enc_output shape == (batch_size, max_length, hidden_size)\n",
    "        context_vector, attention_weights = self.attention([enc_output,hidden])\n",
    "\n",
    "        # x shape after passing through embedding == (batch_size, 1, embedding_dim)\n",
    "        x = self.embedding(x)\n",
    "        \n",
    "        # x shape after concatenation == (batch_size, 1, embedding_dim + hidden_size)\n",
    "        x = tf.concat([tf.expand_dims(context_vector, 1), x], axis=-1)\n",
    "        \n",
    "        # passing the concatenated vector to the LSTM\n",
    "        output, state_h, state_c = self.lstm(x,initial_state=[hidden,cell])\n",
    "        \n",
    "        # output shape == (batch_size, vocab)\n",
    "        x = self.fc(output)\n",
    "\n",
    "        return x, state_h, state_c, attention_weights"
   ]
  },
  {
   "cell_type": "code",
   "execution_count": 86,
   "metadata": {
    "colab": {},
    "colab_type": "code",
    "id": "BPCA4Bt8dkRf"
   },
   "outputs": [],
   "source": [
    "class Decoder(tf.keras.layers.Layer):\n",
    "    def __init__(self, vocab_size, embedding_dim,embedding_matrix_y,dec_units,att_units,**kwargs):\n",
    "        super(Decoder, self).__init__(**kwargs)\n",
    "        self.vocab_size = vocab_size\n",
    "        self.embedding_dim = embedding_dim\n",
    "        self.dec_units = dec_units\n",
    "        self.att_units = att_units\n",
    "        self.onestep_decoder = OneStepDecoder(vocab_size=self.vocab_size,embedding_dim=self.embedding_dim,embedding_matrix_y=embedding_matrix_y,\n",
    "                                           \n",
    "                                              dec_units=self.dec_units,\n",
    "                                              att_units=self.att_units)\n",
    "        \n",
    "    @tf.function\n",
    "    def call(self,decoder_input,decoder_hidden_state,decoder_cell_state,encoder_outputs):\n",
    "\n",
    "        all_outputs = tf.TensorArray(tf.float32,size=decoder_input.shape[1],name='Output_arrays')\n",
    "        hidden_output_dec = decoder_hidden_state\n",
    "        cell_output_dec = decoder_cell_state\n",
    "        for timestep in range(decoder_input.shape[1]):\n",
    "            output_dec,hidden_output_dec,cell_output_dec,_ = self.onestep_decoder(decoder_input[:,timestep:timestep+1],\n",
    "                                                                                  hidden_output_dec,cell_output_dec,\n",
    "                                                                                  encoder_outputs)\n",
    "            \n",
    "            all_outputs = all_outputs.write(timestep,output_dec)\n",
    "        all_outputs = tf.transpose(all_outputs.stack(),[1,0,2])\n",
    "        \n",
    "        return all_outputs"
   ]
  },
  {
   "cell_type": "code",
   "execution_count": 87,
   "metadata": {
    "colab": {},
    "colab_type": "code",
    "id": "YLLHkVhRdqR6"
   },
   "outputs": [],
   "source": [
    "class Encoder_Decoder_Attention_Model(tf.keras.models.Model):\n",
    "    def __init__(self, input_vocab_size,output_vocab_size,embedding_dim,embedding_matrix_x,embedding_matrix_y,units,\n",
    "                 att_units,**kwargs):\n",
    "        super(Encoder_Decoder_Attention_Model,self).__init__(**kwargs)\n",
    "        self.encoder = Encoder(vocab_size=input_vocab_size, embedding_dim=embedding_dim,embedding_matrix_x=embedding_matrix_x,\n",
    "                               enc_units=units,name='Encoder_layer')\n",
    "        self.decoder = Decoder(vocab_size=output_vocab_size, embedding_dim=embedding_dim,embedding_matrix_y=embedding_matrix_y,\n",
    "                               dec_units=units*2,att_units=att_units,name='Decoder_layer')\n",
    "        \n",
    "    @tf.function\n",
    "    def call(self, inputs):\n",
    "        #Inputs will contain encoder input and decoder input\n",
    "        #Separate encoder and decoder inputs\n",
    "        encoder_inputs, decoder_inputs = inputs[0], inputs[1]\n",
    "        \n",
    "        #Genearte output and hidden states from encoder object\n",
    "        encoder_outputs, enc_hidden_output, enc_cell_output = self.encoder(encoder_inputs)\n",
    "\n",
    "        #Generate output from decoder\n",
    "        #Initialise hidden states of decoder with hidden states of encoder\n",
    "        all_outputs = self.decoder(decoder_inputs,enc_hidden_output,enc_cell_output,encoder_outputs)\n",
    "        \n",
    "        return all_outputs"
   ]
  },
  {
   "cell_type": "code",
   "execution_count": 88,
   "metadata": {
    "colab": {},
    "colab_type": "code",
    "id": "FoU0Fthhd_Z2"
   },
   "outputs": [],
   "source": [
    "#Set Parameters\n",
    "input_vocab_size = x_voc+1\n",
    "output_vocab_size = y_voc +1\n",
    "#Encoding and decoding Embedding layer dimension\n",
    "embedding_dim = 50\n",
    "\n",
    "#Encoding and decoding LSTM layer units\n",
    "units = 64\n",
    "att_units =128\n",
    "\n",
    "#Initialise object for Model class\n",
    "model = Encoder_Decoder_Attention_Model(input_vocab_size,output_vocab_size,embedding_dim,\n",
    "                                        embedding_matrix_x,embedding_matrix_y,\n",
    "                                        units,att_units,name='Encoder_Decoder_Attention_Model')"
   ]
  },
  {
   "cell_type": "code",
   "execution_count": 89,
   "metadata": {
    "colab": {},
    "colab_type": "code",
    "id": "ZVqPsBcfmji_"
   },
   "outputs": [],
   "source": [
    "def data_generator(X,y,BATCH_SIZE,shuffle=True):\n",
    "    dataset = tf.data.Dataset.from_tensor_slices((X, y))\n",
    "    if shuffle:\n",
    "        dataset = dataset.shuffle(len(X)).batch(BATCH_SIZE,drop_remainder=True)\n",
    "    else:\n",
    "        dataset = dataset.batch(BATCH_SIZE,drop_remainder=True)\n",
    "    dataset = dataset.prefetch(buffer_size=tf.data.experimental.AUTOTUNE)\n",
    "    return dataset"
   ]
  },
  {
   "cell_type": "code",
   "execution_count": 90,
   "metadata": {
    "colab": {},
    "colab_type": "code",
    "id": "i9BdoraxlEZ0"
   },
   "outputs": [],
   "source": [
    "train = data_generator((x_tr,y_tr[:,:-1]), y_tr[:,1:],BATCH_SIZE=64,\n",
    "                       shuffle=True)\n",
    "val = data_generator((x_val,y_val[:,:-1]), y_val[:,1:],BATCH_SIZE=16,shuffle=False)\n"
   ]
  },
  {
   "cell_type": "code",
   "execution_count": 91,
   "metadata": {
    "colab": {
     "base_uri": "https://localhost:8080/",
     "height": 33
    },
    "colab_type": "code",
    "id": "ccYWDvrFtPZH",
    "outputId": "6e74d5f6-1ba2-4e9d-c34a-18e46bbc0a17"
   },
   "outputs": [
    {
     "data": {
      "text/plain": [
       "True"
      ]
     },
     "execution_count": 91,
     "metadata": {
      "tags": []
     },
     "output_type": "execute_result"
    }
   ],
   "source": [
    "tf.executing_eagerly()"
   ]
  },
  {
   "cell_type": "code",
   "execution_count": 92,
   "metadata": {
    "colab": {
     "base_uri": "https://localhost:8080/",
     "height": 180
    },
    "colab_type": "code",
    "id": "chMau-cPgwO8",
    "outputId": "7152da67-12b4-429c-da9e-3093d96fa7c1"
   },
   "outputs": [
    {
     "name": "stdout",
     "output_type": "stream",
     "text": [
      "Epoch 1/5\n",
      "111/111 [==============================] - 157s 1s/step - loss: 5.4971 - accuracy: 0.2410 - val_loss: 4.8293 - val_accuracy: 0.3067\n",
      "Epoch 2/5\n",
      "111/111 [==============================] - 157s 1s/step - loss: 4.7498 - accuracy: 0.3262 - val_loss: 4.4545 - val_accuracy: 0.3400\n",
      "Epoch 3/5\n",
      "111/111 [==============================] - 155s 1s/step - loss: 4.3070 - accuracy: 0.3534 - val_loss: 4.2428 - val_accuracy: 0.3545\n",
      "Epoch 4/5\n",
      "111/111 [==============================] - 154s 1s/step - loss: 4.0073 - accuracy: 0.3679 - val_loss: 4.1648 - val_accuracy: 0.3630\n",
      "Epoch 5/5\n",
      "111/111 [==============================] - 156s 1s/step - loss: 3.7834 - accuracy: 0.3796 - val_loss: 4.1413 - val_accuracy: 0.3641\n"
     ]
    }
   ],
   "source": [
    "model.compile(optimizer=tf.keras.optimizers.Adam(0.01)\n",
    "              ,loss=tf.keras.losses.SparseCategoricalCrossentropy(from_logits=True)\n",
    "              ,metrics=['accuracy'])\n",
    "\n",
    "es = EarlyStopping(monitor='val_loss', mode='min', verbose=1,patience=5)\n",
    "\n",
    "\n",
    "history2=model.fit(train ,epochs=5,\n",
    "                   validation_data=val,\n",
    "                  workers=-1,callbacks=[es])"
   ]
  },
  {
   "cell_type": "code",
   "execution_count": 93,
   "metadata": {
    "colab": {},
    "colab_type": "code",
    "id": "7jcWp3k_oAny"
   },
   "outputs": [],
   "source": [
    "model.save_weights('/content/gdrive/My Drive/model_attention_wts.h5')"
   ]
  },
  {
   "cell_type": "code",
   "execution_count": 94,
   "metadata": {
    "colab": {
     "base_uri": "https://localhost:8080/",
     "height": 33
    },
    "colab_type": "code",
    "id": "q7gH-744ovqr",
    "outputId": "61be579a-d895-4a2c-d621-7f9a59584520"
   },
   "outputs": [
    {
     "data": {
      "text/plain": [
       "['/content/gdrive/My Drive/model_attention_history2']"
      ]
     },
     "execution_count": 94,
     "metadata": {
      "tags": []
     },
     "output_type": "execute_result"
    }
   ],
   "source": [
    "import joblib\n",
    "joblib.dump(history2.history,'/content/gdrive/My Drive/model_attention_history2')"
   ]
  },
  {
   "cell_type": "code",
   "execution_count": 96,
   "metadata": {
    "colab": {
     "base_uri": "https://localhost:8080/",
     "height": 33
    },
    "colab_type": "code",
    "id": "0R5-knTxAkDX",
    "outputId": "fc6b7e99-239a-45b9-c584-a400451e1fb0"
   },
   "outputs": [
    {
     "data": {
      "text/plain": [
       "['/content/gdrive/My Drive/model_attention_history3']"
      ]
     },
     "execution_count": 96,
     "metadata": {
      "tags": []
     },
     "output_type": "execute_result"
    }
   ],
   "source": [
    "model.save_weights('/content/gdrive/My Drive/model_attention_wts.h5')\n",
    "joblib.dump(history2.history,'/content/gdrive/My Drive/model_attention_history3')"
   ]
  },
  {
   "cell_type": "code",
   "execution_count": 97,
   "metadata": {
    "colab": {},
    "colab_type": "code",
    "id": "-JyIndXGqXvw"
   },
   "outputs": [],
   "source": [
    "loss = history2.history['loss']\n",
    "val_loss = history2.history['val_loss']"
   ]
  },
  {
   "cell_type": "code",
   "execution_count": 98,
   "metadata": {
    "colab": {
     "base_uri": "https://localhost:8080/",
     "height": 311
    },
    "colab_type": "code",
    "id": "yqy5c4-8qUSu",
    "outputId": "ef20f2d0-2cea-4473-ec86-bdfb4103f025"
   },
   "outputs": [
    {
     "data": {
      "text/plain": [
       "Text(0.5, 1.0, 'Loss Vs No of epochs')"
      ]
     },
     "execution_count": 98,
     "metadata": {
      "tags": []
     },
     "output_type": "execute_result"
    },
    {
     "data": {
      "image/png": "[encoded data removed]",
      "text/plain": [
       "<Figure size 432x288 with 1 Axes>"
      ]
     },
     "metadata": {
      "needs_background": "light",
      "tags": []
     },
     "output_type": "display_data"
    }
   ],
   "source": [
    "import matplotlib.pyplot as plt\n",
    "plt.plot(loss,label='Training loss')\n",
    "plt.plot(val_loss, label='Validation loss')\n",
    "plt.legend()\n",
    "plt.grid()\n",
    "plt.xlabel('No of epochs')\n",
    "plt.ylabel('Loss')\n",
    "plt.title('Loss Vs No of epochs')"
   ]
  },
  {
   "cell_type": "markdown",
   "metadata": {
    "colab_type": "text",
    "id": "Xm8M1tAkoRgO"
   },
   "source": [
    "### Testing the model"
   ]
  },
  {
   "cell_type": "code",
   "execution_count": 102,
   "metadata": {
    "colab": {},
    "colab_type": "code",
    "id": "YipshYM-IILi"
   },
   "outputs": [],
   "source": [
    "reverse_target_word_index=y_tokenizer.index_word\n",
    "reverse_source_word_index=x_tokenizer.index_word\n",
    "target_word_index=y_tokenizer.word_index"
   ]
  },
  {
   "cell_type": "code",
   "execution_count": 103,
   "metadata": {
    "colab": {},
    "colab_type": "code",
    "id": "C4d60FY25Tzu"
   },
   "outputs": [],
   "source": [
    "import spacy\n",
    "nlp = spacy.load(\"en_core_web_sm\")\n",
    "token=[]\n",
    "tag=[]\n",
    "for i in x_validation1:\n",
    "    tok=[]\n",
    "    ta=[]\n",
    "    doc = nlp(i)\n",
    "    for ent in doc.ents:\n",
    "        tok.append(ent.text.lower())\n",
    "        ta.append(ent.label_.lower())\n",
    "    token.append(tok)\n",
    "    tag.append(ta)"
   ]
  },
  {
   "cell_type": "code",
   "execution_count": 104,
   "metadata": {
    "colab": {},
    "colab_type": "code",
    "id": "d_jrfCXQILWQ"
   },
   "outputs": [],
   "source": [
    "def seq2text(input_seq):\n",
    "    newString=''\n",
    "    for i in input_seq:\n",
    "        if(i!=0):\n",
    "            newString=newString+reverse_source_word_index[i]+' '\n",
    "    return newString"
   ]
  },
  {
   "cell_type": "code",
   "execution_count": 105,
   "metadata": {
    "colab": {},
    "colab_type": "code",
    "id": "ZIHwWXFMIPTD"
   },
   "outputs": [],
   "source": [
    "def seq2summary(input_seq):\n",
    "    newString=''\n",
    "    for i in input_seq:\n",
    "        if((i!=0 and i!=target_word_index['start']) and i!=target_word_index['end']):\n",
    "            newString=newString+reverse_target_word_index[i]+' '\n",
    "    return newString\n",
    "def search(list, platform):\n",
    "    for i in range(len(list)):\n",
    "        if list[i] == platform:\n",
    "            return True\n",
    "    return False"
   ]
  },
  {
   "cell_type": "code",
   "execution_count": 106,
   "metadata": {
    "colab": {},
    "colab_type": "code",
    "id": "qJTuUQZi7X-K"
   },
   "outputs": [],
   "source": [
    "def decode_sequence(model,input_seq,ukn_token,tag,token):\n",
    "    # Encode the input as state vectors.\n",
    "    enc_outputs,enc_hidden,enc_cell = model.layers[0](input_seq)\n",
    "    \n",
    "    # Generate empty target sequence of length 1.\n",
    "    target_seq = np.zeros((1,1))\n",
    "    \n",
    "\n",
    "    target_seq[0, 0] = target_word_index['start']\n",
    "    dec_hidden = enc_hidden\n",
    "    dec_cell = enc_cell\n",
    "    \n",
    "\n",
    "    \n",
    "\n",
    "    stop_condition = False\n",
    "    decoded_sentence = ''\n",
    "    while not stop_condition:\n",
    "      \n",
    "        output_tokens, h, c,attention_weights = model.layers[1].onestep_decoder(target_seq,dec_hidden,dec_cell,enc_outputs)\n",
    "\n",
    "        # Sample a token\n",
    "     \n",
    "        sampled_token_index = tf.argmax(output_tokens[0]).numpy()\n",
    "        sampled_token = reverse_target_word_index[sampled_token_index]\n",
    "        \n",
    "        if(sampled_token!='end'):\n",
    "            if (sampled_token=='ukn'):\n",
    "            \n",
    "                decoded_sentence += ' '+ukn_token\n",
    "            \n",
    "    \n",
    "            elif (search(tag,sampled_token)):\n",
    "                \n",
    "                idx=tag.index(sampled_token)\n",
    "\n",
    "                new_token=token[idx]\n",
    "\n",
    "                decoded_sentence += ' '+new_token\n",
    "\n",
    "            else:\n",
    "                decoded_sentence += ' '+sampled_token\n",
    "\n",
    "        # Exit condition: either hit max length or find stop word.\n",
    "        if (sampled_token == 'end'  or len(decoded_sentence.split()) >= (max_summary_len-1)):\n",
    "            stop_condition = True\n",
    "\n",
    "        # Update the target sequence (of length 1).\n",
    "        target_seq = np.zeros((1,1))\n",
    "        target_seq[0, 0] = sampled_token_index\n",
    "\n",
    "        # Update internal states\n",
    "        e_h, e_c = h, c\n",
    "\n",
    "    return decoded_sentence"
   ]
  },
  {
   "cell_type": "code",
   "execution_count": 109,
   "metadata": {
    "colab": {
     "base_uri": "https://localhost:8080/",
     "height": 817
    },
    "colab_type": "code",
    "id": "DufsmwhP-E8F",
    "outputId": "6b848253-ac6f-4fc6-8b8d-cbb84d47c101"
   },
   "outputs": [
    {
     "name": "stdout",
     "output_type": "stream",
     "text": [
      "Original summary: person person defends his post match ukn after his side lost to person person was sent to the stands for complaining about red card for norp norp coach says pictures of the incidents back up his claims cardinal \n",
      "Predicted summary:  the officialdom officialdom officialdom officialdom officialdom officialdom officialdom officialdom officialdom officialdom officialdom officialdom officialdom officialdom officialdom officialdom officialdom officialdom officialdom officialdom officialdom officialdom officialdom officialdom officialdom officialdom officialdom officialdom officialdom officialdom officialdom officialdom officialdom officialdom officialdom officialdom officialdom officialdom officialdom\n",
      "\n",
      "\n",
      "Original summary: deaths of police officers are being investigated isaf public information officer tells the strike occurred amid a joint operation he said dean would not give more details the international security force is a org led mission in gpe cardinal \n",
      "Predicted summary:  the seven seven seven seven seven seven seven seven seven seven seven seven seven seven seven seven seven seven seven seven seven seven seven seven seven seven seven seven seven seven seven seven seven seven seven seven seven seven seven\n",
      "\n",
      "\n",
      "Original summary: ukn lauder dies from complications of norp cancer lauder helped create the pink ukn as a symbol of breast cancer awareness she is survived by her husband cardinal sons and cardinal grandchildren cardinal \n",
      "Predicted summary:  the evelyn evelyn evelyn evelyn evelyn evelyn evelyn evelyn evelyn evelyn evelyn evelyn evelyn evelyn evelyn evelyn evelyn evelyn evelyn evelyn evelyn evelyn evelyn evelyn evelyn evelyn evelyn evelyn evelyn evelyn evelyn evelyn evelyn evelyn evelyn evelyn evelyn evelyn evelyn\n",
      "\n",
      "\n",
      "Original summary: students will identify contemporary applications of the u s constitution cardinal \n",
      "Predicted summary:  ukn ukn ukn ukn ukn ukn ukn ukn ukn ukn ukn ukn ukn ukn ukn ukn ukn ukn ukn ukn ukn ukn ukn ukn ukn ukn ukn ukn ukn ukn ukn ukn ukn ukn ukn ukn ukn ukn ukn ukn\n",
      "\n",
      "\n",
      "Original summary: the pair got married in his native scotland in date org is a cardinal time indianapolis cardinal winner person says the pair will always be family forever cardinal \n",
      "Predicted summary:  floppy floppy floppy floppy floppy floppy floppy floppy floppy floppy floppy floppy floppy floppy floppy floppy floppy floppy floppy floppy floppy floppy floppy floppy floppy floppy floppy floppy floppy floppy floppy floppy floppy floppy floppy floppy floppy floppy floppy floppy\n",
      "\n",
      "\n",
      "Original summary: use the date newsquiz to test your knowledge of stories you saw on student news write your answers in the space provided date is person includes the media literacy question of date date cardinal \n",
      "Predicted summary:  the ukn ukn ukn ukn ukn ukn ukn ukn ukn ukn ukn ukn ukn ukn ukn ukn ukn ukn ukn ukn ukn ukn ukn ukn ukn ukn ukn ukn ukn ukn ukn ukn ukn ukn ukn ukn ukn ukn ukn\n",
      "\n",
      "\n",
      "Original summary: former world boxing champion ricky ukn has his boxing license ukn person was filmed allegedly using cocaine in a tabloid newspaper person person lost super fights against person person person person and person person cardinal \n",
      "Predicted summary:  the disrepute disrepute disrepute disrepute disrepute disrepute disrepute disrepute disrepute disrepute disrepute disrepute disrepute disrepute disrepute disrepute disrepute disrepute disrepute disrepute disrepute disrepute disrepute disrepute disrepute disrepute disrepute disrepute disrepute disrepute disrepute disrepute disrepute disrepute disrepute disrepute disrepute disrepute disrepute\n",
      "\n",
      "\n",
      "Original summary: norp authorities apprehend fugitive norp white supremacist person person person was one of the cardinal most wanted people in gpe gpe gpe ukn ukn ukn member accused of burning judge is car in gpe cardinal \n",
      "Predicted summary:  the seven seven seven seven seven seven seven seven seven seven seven seven seven seven seven seven seven seven seven seven seven seven seven seven seven seven seven seven seven seven seven seven seven seven seven seven seven seven seven\n",
      "\n",
      "\n",
      "Original summary: bonanza star is son person person found dead in gpe gpe home officials say no indication of foul play in date date date is death person person had a few acting credits playing small roles in cardinal movies cardinal \n",
      "Predicted summary:  the ukn ukn ukn ukn ukn ukn ukn ukn ukn ukn ukn ukn ukn ukn ukn ukn ukn ukn ukn ukn ukn ukn ukn ukn ukn ukn ukn ukn ukn ukn ukn ukn ukn ukn ukn ukn ukn ukn ukn\n",
      "\n",
      "\n",
      "Original summary: new gpe millionaires happiness report shows ukn with health life ukn in general the report shows that the ukn you are the less happy you are cardinal \n",
      "Predicted summary:  the dissatisfied dissatisfied dissatisfied dissatisfied dissatisfied dissatisfied dissatisfied dissatisfied dissatisfied dissatisfied dissatisfied dissatisfied dissatisfied dissatisfied dissatisfied dissatisfied dissatisfied dissatisfied dissatisfied dissatisfied dissatisfied dissatisfied dissatisfied dissatisfied dissatisfied dissatisfied dissatisfied dissatisfied dissatisfied dissatisfied dissatisfied dissatisfied dissatisfied dissatisfied dissatisfied dissatisfied dissatisfied dissatisfied dissatisfied\n",
      "\n",
      "\n",
      "Original summary: person person transferred to a hospital in gpe for rehab cardinal time product world champion is no longer in a coma he suffered a severe head injury while skiing in gpe in date date \n",
      "Predicted summary:  the ukn ukn ukn ukn ukn ukn ukn ukn ukn ukn ukn ukn ukn ukn ukn ukn ukn ukn ukn ukn ukn ukn ukn ukn ukn ukn ukn ukn ukn ukn ukn ukn ukn ukn ukn ukn ukn ukn ukn\n",
      "\n",
      "\n",
      "Original summary: the person is for unpaid taxes it is being handled immediately person says cardinal \n",
      "Predicted summary:  the 95 95 95 95 95 95 95 95 95 95 95 95 95 95 95 95 95 95 95 95 95 95 95 95 95 95 95 95 95 95 95 95 95 95 95 95 95 95 95\n",
      "\n",
      "\n"
     ]
    }
   ],
   "source": [
    "for i in range(1,15):\n",
    "\n",
    "   \n",
    "    k= seq2text(x_val[i])\n",
    "    k=re.sub('[^a-z]+', ' ', k)\n",
    "    result = text_to_word_sequence(k)\n",
    "    \n",
    "    \n",
    "    if search(result, 'ukn'):\n",
    "        idx=result.index('ukn')\n",
    "   \n",
    "        input_org = re.sub('[^a-z]+',' ', x_validation[i])\n",
    "        input_org = text_to_word_sequence(input_org)\n",
    "        ukn_token = input_org[idx]\n",
    "\n",
    "    else:\n",
    "        ukn_token='ukn'\n",
    "    print(\"Original summary:\",seq2summary(y_val[i]))  \n",
    "    \n",
    "    print(\"Predicted summary:\",decode_sequence(model,x_val[i].reshape(1,max_text_len),ukn_token,tag[i],token[i]))\n",
    "    print(\"\\n\")"
   ]
  }
 ],
 "metadata": {
  "accelerator": "GPU",
  "colab": {
   "collapsed_sections": [],
   "name": "Attention_model_.ipynb",
   "provenance": []
  },
  "kernelspec": {
   "display_name": "Python 3",
   "language": "python",
   "name": "python3"
  },
  "language_info": {
   "codemirror_mode": {
    "name": "ipython",
    "version": 3
   },
   "file_extension": ".py",
   "mimetype": "text/x-python",
   "name": "python",
   "nbconvert_exporter": "python",
   "pygments_lexer": "ipython3",
   "version": "3.7.4"
  }
 },
 "nbformat": 4,
 "nbformat_minor": 1
}
